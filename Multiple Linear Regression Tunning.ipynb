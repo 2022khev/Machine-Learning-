{
 "cells": [
  {
   "cell_type": "code",
   "execution_count": 1,
   "id": "8a74e754",
   "metadata": {},
   "outputs": [],
   "source": [
    "import warnings \n",
    "warnings.simplefilter(\"ignore\")\n",
    "\n",
    "import pandas as pd\n",
    "import numpy as np"
   ]
  },
  {
   "cell_type": "code",
   "execution_count": 2,
   "id": "4e468e19",
   "metadata": {},
   "outputs": [],
   "source": [
    "df=pd.read_csv(\"Advertising.csv\")\n",
    "X=df[[\"TV\",\"radio\",\"newspaper\"]]\n",
    "y=df.sales"
   ]
  },
  {
   "cell_type": "code",
   "execution_count": 3,
   "id": "8faba228",
   "metadata": {},
   "outputs": [],
   "source": [
    "from sklearn.linear_model import LinearRegression,Lasso,Ridge,ElasticNet\n",
    "from sklearn.pipeline import make_pipeline\n",
    "from sklearn.pipeline import Pipeline\n",
    "from sklearn.model_selection import train_test_split\n",
    "from sklearn.preprocessing import StandardScaler\n",
    "from sklearn.model_selection import GridSearchCV"
   ]
  },
  {
   "cell_type": "code",
   "execution_count": 4,
   "id": "e8a19b12",
   "metadata": {},
   "outputs": [],
   "source": [
    "X_train,X_test,y_train,y_test = train_test_split(X,y,test_size=0.3,random_state=42)"
   ]
  },
  {
   "cell_type": "code",
   "execution_count": 5,
   "id": "2a0e7947",
   "metadata": {},
   "outputs": [],
   "source": [
    "scaler = StandardScaler()\n",
    "model = Ridge()"
   ]
  },
  {
   "cell_type": "code",
   "execution_count": 6,
   "id": "416f9c51",
   "metadata": {},
   "outputs": [],
   "source": [
    "pipelines = {\n",
    "    'linear': make_pipeline(StandardScaler(), LinearRegression()),\n",
    "    'lasso' : make_pipeline(StandardScaler(), Lasso(random_state = 1)),\n",
    "    'ridge' : make_pipeline(StandardScaler(), Ridge(random_state = 1)),\n",
    "    'enet' : make_pipeline(StandardScaler(), ElasticNet(\n",
    "                                                        copy_X = True, \n",
    "                                                        fit_intercept = True, \n",
    "                                                        max_iter = 1000,\n",
    "                                                        positive = False, \n",
    "                                                        precompute=False,\n",
    "                                                        random_state = 1,\n",
    "                                                        tol = 0.0001,\n",
    "                                                        warm_start = False))\n",
    "}\n"
   ]
  },
  {
   "cell_type": "code",
   "execution_count": 7,
   "id": "b4fc4dc7",
   "metadata": {},
   "outputs": [],
   "source": [
    "linear_hyperparameters = {\n",
    "}\n",
    "\n",
    "\n",
    "lasso_hyperparameters = {\n",
    "    'lasso__alpha' : [0.01, 0.05, 0.1, 0.5, 1, 5]\n",
    "}\n",
    "\n",
    "\n",
    "ridge_hyperparameters = {\n",
    "    'ridge__alpha' : [0.01, 0.05, 0.1, 0.5, 1, 5]\n",
    "}\n",
    "\n",
    "enet_hyperparameters = {\n",
    "    'elasticnet__alpha' : [0.01, 0.05, 0.1, 0.5, 1, 5],\n",
    "    'elasticnet__l1_ratio' : [0.1, 0.3, 0.5, 0.7, 0.9]\n",
    "}"
   ]
  },
  {
   "cell_type": "code",
   "execution_count": 8,
   "id": "234488d1",
   "metadata": {},
   "outputs": [],
   "source": [
    "hyperparameter_grids = {\n",
    "    \"linear\":linear_hyperparameters,\n",
    "    'lasso' : lasso_hyperparameters,\n",
    "    'ridge' : ridge_hyperparameters,\n",
    "    'enet' : enet_hyperparameters\n",
    "}"
   ]
  },
  {
   "cell_type": "code",
   "execution_count": 9,
   "id": "58f8f688",
   "metadata": {},
   "outputs": [
    {
     "data": {
      "text/plain": [
       "dict_keys(['linear', 'lasso', 'ridge', 'enet'])"
      ]
     },
     "execution_count": 9,
     "metadata": {},
     "output_type": "execute_result"
    }
   ],
   "source": [
    "models = {}\n",
    "\n",
    "for key in pipelines.keys() :\n",
    "    models[key] = GridSearchCV(pipelines[key], hyperparameter_grids[key], cv=5)\n",
    "    \n",
    "models.keys()"
   ]
  },
  {
   "cell_type": "code",
   "execution_count": 10,
   "id": "7bb2ccec",
   "metadata": {},
   "outputs": [
    {
     "name": "stdout",
     "output_type": "stream",
     "text": [
      "linear  is trained and tuned.\n",
      "lasso  is trained and tuned.\n",
      "ridge  is trained and tuned.\n",
      "enet  is trained and tuned.\n"
     ]
    }
   ],
   "source": [
    "for key in models.keys() :\n",
    "    models[key].fit(X_train, y_train)\n",
    "    print(key, ' is trained and tuned.')"
   ]
  },
  {
   "cell_type": "code",
   "execution_count": 11,
   "id": "29e700e8",
   "metadata": {},
   "outputs": [
    {
     "name": "stdout",
     "output_type": "stream",
     "text": [
      "linear\n",
      "R-Squared:  0.861\n",
      "MAE:  1.512\n",
      "---\n",
      "\n",
      "lasso\n",
      "R-Squared:  0.865\n",
      "MAE:  1.486\n",
      "---\n",
      "\n",
      "ridge\n",
      "R-Squared:  0.861\n",
      "MAE:  1.512\n",
      "---\n",
      "\n",
      "enet\n",
      "R-Squared:  0.863\n",
      "MAE:  1.495\n",
      "---\n",
      "\n"
     ]
    }
   ],
   "source": [
    "from sklearn.metrics import r2_score, mean_absolute_error\n",
    "for key in models.keys():\n",
    "    preds = models[key].predict(X_test)\n",
    "    print(key)\n",
    "    print('R-Squared: ', round(r2_score(y_test, preds), 3))\n",
    "    print('MAE: ', round(mean_absolute_error(y_test, preds), 3))\n",
    "    print('---\\n')"
   ]
  }
 ],
 "metadata": {
  "kernelspec": {
   "display_name": "Python 3 (ipykernel)",
   "language": "python",
   "name": "python3"
  },
  "language_info": {
   "codemirror_mode": {
    "name": "ipython",
    "version": 3
   },
   "file_extension": ".py",
   "mimetype": "text/x-python",
   "name": "python",
   "nbconvert_exporter": "python",
   "pygments_lexer": "ipython3",
   "version": "3.8.16"
  }
 },
 "nbformat": 4,
 "nbformat_minor": 5
}
