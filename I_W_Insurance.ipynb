{
 "cells": [
  {
   "cell_type": "code",
   "execution_count": 1,
   "id": "c0b64904",
   "metadata": {},
   "outputs": [],
   "source": [
    "import pandas as pd\n",
    "import numpy as np\n",
    "import seaborn as sns\n",
    "import matplotlib.pyplot as plt\n",
    "\n",
    "\n",
    "from sklearn.impute import SimpleImputer\n",
    "from sklearn.ensemble import GradientBoostingClassifier\n",
    "from sklearn.pipeline import make_pipeline\n",
    "from sklearn.model_selection import GridSearchCV\n",
    "\n",
    "from sklearn.metrics import (\n",
    "    ConfusionMatrixDisplay,\n",
    "    classification_report,\n",
    "    confusion_matrix,\n",
    ")\n"
   ]
  },
  {
   "cell_type": "code",
   "execution_count": 2,
   "id": "a76576e7",
   "metadata": {},
   "outputs": [],
   "source": [
    "def wrangle(filepath):\n",
    "    df=pd.read_csv(filepath)\n",
    "   \n",
    "    return df"
   ]
  },
  {
   "cell_type": "code",
   "execution_count": 3,
   "id": "d5ea42df",
   "metadata": {},
   "outputs": [
    {
     "name": "stdout",
     "output_type": "stream",
     "text": [
      "(22850, 12)\n"
     ]
    },
    {
     "data": {
      "text/html": [
       "<div>\n",
       "<style scoped>\n",
       "    .dataframe tbody tr th:only-of-type {\n",
       "        vertical-align: middle;\n",
       "    }\n",
       "\n",
       "    .dataframe tbody tr th {\n",
       "        vertical-align: top;\n",
       "    }\n",
       "\n",
       "    .dataframe thead th {\n",
       "        text-align: right;\n",
       "    }\n",
       "</style>\n",
       "<table border=\"1\" class=\"dataframe\">\n",
       "  <thead>\n",
       "    <tr style=\"text-align: right;\">\n",
       "      <th></th>\n",
       "      <th>person_age</th>\n",
       "      <th>person_income</th>\n",
       "      <th>person_home_ownership</th>\n",
       "      <th>person_emp_length</th>\n",
       "      <th>loan_intent</th>\n",
       "      <th>loan_grade</th>\n",
       "      <th>loan_amnt</th>\n",
       "      <th>loan_int_rate</th>\n",
       "      <th>loan_status</th>\n",
       "      <th>loan_percent_income</th>\n",
       "      <th>cb_person_default_on_file</th>\n",
       "      <th>cb_person_cred_hist_length</th>\n",
       "    </tr>\n",
       "  </thead>\n",
       "  <tbody>\n",
       "    <tr>\n",
       "      <th>0</th>\n",
       "      <td>22</td>\n",
       "      <td>59000</td>\n",
       "      <td>RENT</td>\n",
       "      <td>123.0</td>\n",
       "      <td>PERSONAL</td>\n",
       "      <td>D</td>\n",
       "      <td>35000</td>\n",
       "      <td>16.02</td>\n",
       "      <td>1</td>\n",
       "      <td>0.59</td>\n",
       "      <td>Y</td>\n",
       "      <td>3</td>\n",
       "    </tr>\n",
       "    <tr>\n",
       "      <th>1</th>\n",
       "      <td>21</td>\n",
       "      <td>9600</td>\n",
       "      <td>OWN</td>\n",
       "      <td>5.0</td>\n",
       "      <td>EDUCATION</td>\n",
       "      <td>B</td>\n",
       "      <td>1000</td>\n",
       "      <td>11.14</td>\n",
       "      <td>0</td>\n",
       "      <td>0.10</td>\n",
       "      <td>N</td>\n",
       "      <td>2</td>\n",
       "    </tr>\n",
       "    <tr>\n",
       "      <th>2</th>\n",
       "      <td>23</td>\n",
       "      <td>65500</td>\n",
       "      <td>RENT</td>\n",
       "      <td>4.0</td>\n",
       "      <td>MEDICAL</td>\n",
       "      <td>C</td>\n",
       "      <td>35000</td>\n",
       "      <td>15.23</td>\n",
       "      <td>1</td>\n",
       "      <td>0.53</td>\n",
       "      <td>N</td>\n",
       "      <td>2</td>\n",
       "    </tr>\n",
       "    <tr>\n",
       "      <th>3</th>\n",
       "      <td>21</td>\n",
       "      <td>9900</td>\n",
       "      <td>OWN</td>\n",
       "      <td>2.0</td>\n",
       "      <td>VENTURE</td>\n",
       "      <td>A</td>\n",
       "      <td>2500</td>\n",
       "      <td>7.14</td>\n",
       "      <td>1</td>\n",
       "      <td>0.25</td>\n",
       "      <td>N</td>\n",
       "      <td>2</td>\n",
       "    </tr>\n",
       "    <tr>\n",
       "      <th>4</th>\n",
       "      <td>26</td>\n",
       "      <td>77100</td>\n",
       "      <td>RENT</td>\n",
       "      <td>8.0</td>\n",
       "      <td>EDUCATION</td>\n",
       "      <td>B</td>\n",
       "      <td>35000</td>\n",
       "      <td>12.42</td>\n",
       "      <td>1</td>\n",
       "      <td>0.45</td>\n",
       "      <td>N</td>\n",
       "      <td>3</td>\n",
       "    </tr>\n",
       "  </tbody>\n",
       "</table>\n",
       "</div>"
      ],
      "text/plain": [
       "   person_age  person_income person_home_ownership  person_emp_length  \\\n",
       "0          22          59000                  RENT              123.0   \n",
       "1          21           9600                   OWN                5.0   \n",
       "2          23          65500                  RENT                4.0   \n",
       "3          21           9900                   OWN                2.0   \n",
       "4          26          77100                  RENT                8.0   \n",
       "\n",
       "  loan_intent loan_grade  loan_amnt  loan_int_rate  loan_status  \\\n",
       "0    PERSONAL          D      35000          16.02            1   \n",
       "1   EDUCATION          B       1000          11.14            0   \n",
       "2     MEDICAL          C      35000          15.23            1   \n",
       "3     VENTURE          A       2500           7.14            1   \n",
       "4   EDUCATION          B      35000          12.42            1   \n",
       "\n",
       "   loan_percent_income cb_person_default_on_file  cb_person_cred_hist_length  \n",
       "0                 0.59                         Y                           3  \n",
       "1                 0.10                         N                           2  \n",
       "2                 0.53                         N                           2  \n",
       "3                 0.25                         N                           2  \n",
       "4                 0.45                         N                           3  "
      ]
     },
     "execution_count": 3,
     "metadata": {},
     "output_type": "execute_result"
    }
   ],
   "source": [
    "df = wrangle(r'C:\\Users\\kelvin\\OneDrive\\Desktop\\file1\\credit_risk_dataset_training.csv')\n",
    "print(df.shape)\n",
    "df.head()"
   ]
  },
  {
   "cell_type": "code",
   "execution_count": 4,
   "id": "8072bfb1",
   "metadata": {},
   "outputs": [],
   "source": [
    "from sklearn import preprocessing"
   ]
  },
  {
   "cell_type": "code",
   "execution_count": 5,
   "id": "08ebe844",
   "metadata": {},
   "outputs": [],
   "source": [
    "ler =preprocessing.LabelEncoder()\n",
    "df[\"person_home_ownership\"] = ler.fit_transform(df[\"person_home_ownership\"])\n",
    "df[\"loan_intent\"] = ler.fit_transform(df[\"loan_intent\"])\n",
    "df[\"loan_grade\"] = ler.fit_transform(df[\"loan_grade\"])\n",
    "df[\"cb_person_default_on_file\"] = ler.fit_transform(df[\"cb_person_default_on_file\"])"
   ]
  },
  {
   "cell_type": "code",
   "execution_count": 6,
   "id": "e69b82e6",
   "metadata": {},
   "outputs": [
    {
     "name": "stdout",
     "output_type": "stream",
     "text": [
      "X: (22850, 11)\n",
      "y: (22850,)\n"
     ]
    }
   ],
   "source": [
    "target = 'loan_status'\n",
    "X = df.drop(columns = target)\n",
    "y = df[target]\n",
    "\n",
    "print(\"X:\",X.shape)\n",
    "print(\"y:\",y.shape)"
   ]
  },
  {
   "cell_type": "code",
   "execution_count": 7,
   "id": "c00ef5d7",
   "metadata": {},
   "outputs": [],
   "source": [
    "from sklearn.model_selection import train_test_split "
   ]
  },
  {
   "cell_type": "code",
   "execution_count": 8,
   "id": "64a4c329",
   "metadata": {},
   "outputs": [
    {
     "name": "stdout",
     "output_type": "stream",
     "text": [
      "X_train: (15995, 11)\n",
      "X_test: (6855, 11)\n",
      "y_train: (15995,)\n",
      "y_test: (6855,)\n"
     ]
    }
   ],
   "source": [
    "X_train,X_test,y_train,y_test=train_test_split(X,y,test_size =0.3, random_state = 42)\n",
    "print(\"X_train:\",X_train.shape)\n",
    "print(\"X_test:\",X_test.shape)\n",
    "print(\"y_train:\",y_train.shape)\n",
    "print(\"y_test:\",y_test.shape)\n"
   ]
  },
  {
   "cell_type": "code",
   "execution_count": 9,
   "id": "35d04baf",
   "metadata": {},
   "outputs": [],
   "source": [
    "clf = make_pipeline(SimpleImputer(),\n",
    "                   GradientBoostingClassifier()\n",
    "                   )"
   ]
  },
  {
   "cell_type": "code",
   "execution_count": 10,
   "id": "e122591e",
   "metadata": {},
   "outputs": [],
   "source": [
    "params = {\"simpleimputer__strategy\":[\"mean\",\"median\"],\n",
    "         \"gradientboostingclassifier__n_estimators\":range(20,31,5),\n",
    "          \"gradientboostingclassifier__max_depth\":range(2,5),\n",
    "         }        "
   ]
  },
  {
   "cell_type": "code",
   "execution_count": 11,
   "id": "a2869db6",
   "metadata": {},
   "outputs": [],
   "source": [
    "model = GridSearchCV(clf,param_grid= params,n_jobs= -1,verbose=1, cv =5)"
   ]
  },
  {
   "cell_type": "code",
   "execution_count": 12,
   "id": "efdf2e96",
   "metadata": {},
   "outputs": [
    {
     "name": "stdout",
     "output_type": "stream",
     "text": [
      "Fitting 5 folds for each of 18 candidates, totalling 90 fits\n"
     ]
    },
    {
     "data": {
      "text/plain": [
       "GridSearchCV(cv=5,\n",
       "             estimator=Pipeline(steps=[('simpleimputer', SimpleImputer()),\n",
       "                                       ('gradientboostingclassifier',\n",
       "                                        GradientBoostingClassifier())]),\n",
       "             n_jobs=-1,\n",
       "             param_grid={'gradientboostingclassifier__max_depth': range(2, 5),\n",
       "                         'gradientboostingclassifier__n_estimators': range(20, 31, 5),\n",
       "                         'simpleimputer__strategy': ['mean', 'median']},\n",
       "             verbose=1)"
      ]
     },
     "execution_count": 12,
     "metadata": {},
     "output_type": "execute_result"
    }
   ],
   "source": [
    "model.fit(X_train,y_train)"
   ]
  },
  {
   "cell_type": "code",
   "execution_count": 13,
   "id": "e6b683e3",
   "metadata": {},
   "outputs": [
    {
     "data": {
      "text/html": [
       "<div>\n",
       "<style scoped>\n",
       "    .dataframe tbody tr th:only-of-type {\n",
       "        vertical-align: middle;\n",
       "    }\n",
       "\n",
       "    .dataframe tbody tr th {\n",
       "        vertical-align: top;\n",
       "    }\n",
       "\n",
       "    .dataframe thead th {\n",
       "        text-align: right;\n",
       "    }\n",
       "</style>\n",
       "<table border=\"1\" class=\"dataframe\">\n",
       "  <thead>\n",
       "    <tr style=\"text-align: right;\">\n",
       "      <th></th>\n",
       "      <th>mean_fit_time</th>\n",
       "      <th>std_fit_time</th>\n",
       "      <th>mean_score_time</th>\n",
       "      <th>std_score_time</th>\n",
       "      <th>param_gradientboostingclassifier__max_depth</th>\n",
       "      <th>param_gradientboostingclassifier__n_estimators</th>\n",
       "      <th>param_simpleimputer__strategy</th>\n",
       "      <th>params</th>\n",
       "      <th>split0_test_score</th>\n",
       "      <th>split1_test_score</th>\n",
       "      <th>split2_test_score</th>\n",
       "      <th>split3_test_score</th>\n",
       "      <th>split4_test_score</th>\n",
       "      <th>mean_test_score</th>\n",
       "      <th>std_test_score</th>\n",
       "      <th>rank_test_score</th>\n",
       "    </tr>\n",
       "  </thead>\n",
       "  <tbody>\n",
       "    <tr>\n",
       "      <th>16</th>\n",
       "      <td>1.129419</td>\n",
       "      <td>0.064531</td>\n",
       "      <td>0.005929</td>\n",
       "      <td>0.007478</td>\n",
       "      <td>4</td>\n",
       "      <td>30</td>\n",
       "      <td>mean</td>\n",
       "      <td>{'gradientboostingclassifier__max_depth': 4, '...</td>\n",
       "      <td>0.922476</td>\n",
       "      <td>0.924664</td>\n",
       "      <td>0.919350</td>\n",
       "      <td>0.922788</td>\n",
       "      <td>0.922476</td>\n",
       "      <td>0.922351</td>\n",
       "      <td>0.001708</td>\n",
       "      <td>1</td>\n",
       "    </tr>\n",
       "    <tr>\n",
       "      <th>17</th>\n",
       "      <td>1.075945</td>\n",
       "      <td>0.059093</td>\n",
       "      <td>0.011374</td>\n",
       "      <td>0.006091</td>\n",
       "      <td>4</td>\n",
       "      <td>30</td>\n",
       "      <td>median</td>\n",
       "      <td>{'gradientboostingclassifier__max_depth': 4, '...</td>\n",
       "      <td>0.922476</td>\n",
       "      <td>0.924664</td>\n",
       "      <td>0.919350</td>\n",
       "      <td>0.922476</td>\n",
       "      <td>0.922476</td>\n",
       "      <td>0.922288</td>\n",
       "      <td>0.001696</td>\n",
       "      <td>2</td>\n",
       "    </tr>\n",
       "    <tr>\n",
       "      <th>15</th>\n",
       "      <td>0.950826</td>\n",
       "      <td>0.048741</td>\n",
       "      <td>0.007596</td>\n",
       "      <td>0.004029</td>\n",
       "      <td>4</td>\n",
       "      <td>25</td>\n",
       "      <td>median</td>\n",
       "      <td>{'gradientboostingclassifier__max_depth': 4, '...</td>\n",
       "      <td>0.920600</td>\n",
       "      <td>0.924351</td>\n",
       "      <td>0.917474</td>\n",
       "      <td>0.921225</td>\n",
       "      <td>0.919975</td>\n",
       "      <td>0.920725</td>\n",
       "      <td>0.002216</td>\n",
       "      <td>3</td>\n",
       "    </tr>\n",
       "    <tr>\n",
       "      <th>14</th>\n",
       "      <td>0.897556</td>\n",
       "      <td>0.014080</td>\n",
       "      <td>0.008920</td>\n",
       "      <td>0.005193</td>\n",
       "      <td>4</td>\n",
       "      <td>25</td>\n",
       "      <td>mean</td>\n",
       "      <td>{'gradientboostingclassifier__max_depth': 4, '...</td>\n",
       "      <td>0.920600</td>\n",
       "      <td>0.924351</td>\n",
       "      <td>0.917474</td>\n",
       "      <td>0.921225</td>\n",
       "      <td>0.919975</td>\n",
       "      <td>0.920725</td>\n",
       "      <td>0.002216</td>\n",
       "      <td>3</td>\n",
       "    </tr>\n",
       "    <tr>\n",
       "      <th>13</th>\n",
       "      <td>0.730981</td>\n",
       "      <td>0.014090</td>\n",
       "      <td>0.009375</td>\n",
       "      <td>0.007655</td>\n",
       "      <td>4</td>\n",
       "      <td>20</td>\n",
       "      <td>median</td>\n",
       "      <td>{'gradientboostingclassifier__max_depth': 4, '...</td>\n",
       "      <td>0.917474</td>\n",
       "      <td>0.923414</td>\n",
       "      <td>0.917787</td>\n",
       "      <td>0.920288</td>\n",
       "      <td>0.919662</td>\n",
       "      <td>0.919725</td>\n",
       "      <td>0.002133</td>\n",
       "      <td>5</td>\n",
       "    </tr>\n",
       "    <tr>\n",
       "      <th>12</th>\n",
       "      <td>0.725528</td>\n",
       "      <td>0.002233</td>\n",
       "      <td>0.009375</td>\n",
       "      <td>0.007655</td>\n",
       "      <td>4</td>\n",
       "      <td>20</td>\n",
       "      <td>mean</td>\n",
       "      <td>{'gradientboostingclassifier__max_depth': 4, '...</td>\n",
       "      <td>0.917474</td>\n",
       "      <td>0.923414</td>\n",
       "      <td>0.917787</td>\n",
       "      <td>0.920288</td>\n",
       "      <td>0.919662</td>\n",
       "      <td>0.919725</td>\n",
       "      <td>0.002133</td>\n",
       "      <td>5</td>\n",
       "    </tr>\n",
       "    <tr>\n",
       "      <th>11</th>\n",
       "      <td>0.864826</td>\n",
       "      <td>0.010119</td>\n",
       "      <td>0.008174</td>\n",
       "      <td>0.007025</td>\n",
       "      <td>3</td>\n",
       "      <td>30</td>\n",
       "      <td>median</td>\n",
       "      <td>{'gradientboostingclassifier__max_depth': 3, '...</td>\n",
       "      <td>0.907158</td>\n",
       "      <td>0.914348</td>\n",
       "      <td>0.905595</td>\n",
       "      <td>0.913098</td>\n",
       "      <td>0.898406</td>\n",
       "      <td>0.907721</td>\n",
       "      <td>0.005735</td>\n",
       "      <td>7</td>\n",
       "    </tr>\n",
       "    <tr>\n",
       "      <th>10</th>\n",
       "      <td>0.809543</td>\n",
       "      <td>0.044589</td>\n",
       "      <td>0.007865</td>\n",
       "      <td>0.006988</td>\n",
       "      <td>3</td>\n",
       "      <td>30</td>\n",
       "      <td>mean</td>\n",
       "      <td>{'gradientboostingclassifier__max_depth': 3, '...</td>\n",
       "      <td>0.907158</td>\n",
       "      <td>0.914348</td>\n",
       "      <td>0.905595</td>\n",
       "      <td>0.913098</td>\n",
       "      <td>0.898406</td>\n",
       "      <td>0.907721</td>\n",
       "      <td>0.005735</td>\n",
       "      <td>7</td>\n",
       "    </tr>\n",
       "    <tr>\n",
       "      <th>9</th>\n",
       "      <td>0.640121</td>\n",
       "      <td>0.025572</td>\n",
       "      <td>0.007449</td>\n",
       "      <td>0.007025</td>\n",
       "      <td>3</td>\n",
       "      <td>25</td>\n",
       "      <td>median</td>\n",
       "      <td>{'gradientboostingclassifier__max_depth': 3, '...</td>\n",
       "      <td>0.903407</td>\n",
       "      <td>0.913410</td>\n",
       "      <td>0.901844</td>\n",
       "      <td>0.908096</td>\n",
       "      <td>0.896843</td>\n",
       "      <td>0.904720</td>\n",
       "      <td>0.005639</td>\n",
       "      <td>9</td>\n",
       "    </tr>\n",
       "    <tr>\n",
       "      <th>8</th>\n",
       "      <td>0.620477</td>\n",
       "      <td>0.027455</td>\n",
       "      <td>0.009377</td>\n",
       "      <td>0.007656</td>\n",
       "      <td>3</td>\n",
       "      <td>25</td>\n",
       "      <td>mean</td>\n",
       "      <td>{'gradientboostingclassifier__max_depth': 3, '...</td>\n",
       "      <td>0.903407</td>\n",
       "      <td>0.913410</td>\n",
       "      <td>0.901844</td>\n",
       "      <td>0.908096</td>\n",
       "      <td>0.896843</td>\n",
       "      <td>0.904720</td>\n",
       "      <td>0.005639</td>\n",
       "      <td>9</td>\n",
       "    </tr>\n",
       "  </tbody>\n",
       "</table>\n",
       "</div>"
      ],
      "text/plain": [
       "    mean_fit_time  std_fit_time  mean_score_time  std_score_time  \\\n",
       "16       1.129419      0.064531         0.005929        0.007478   \n",
       "17       1.075945      0.059093         0.011374        0.006091   \n",
       "15       0.950826      0.048741         0.007596        0.004029   \n",
       "14       0.897556      0.014080         0.008920        0.005193   \n",
       "13       0.730981      0.014090         0.009375        0.007655   \n",
       "12       0.725528      0.002233         0.009375        0.007655   \n",
       "11       0.864826      0.010119         0.008174        0.007025   \n",
       "10       0.809543      0.044589         0.007865        0.006988   \n",
       "9        0.640121      0.025572         0.007449        0.007025   \n",
       "8        0.620477      0.027455         0.009377        0.007656   \n",
       "\n",
       "   param_gradientboostingclassifier__max_depth  \\\n",
       "16                                           4   \n",
       "17                                           4   \n",
       "15                                           4   \n",
       "14                                           4   \n",
       "13                                           4   \n",
       "12                                           4   \n",
       "11                                           3   \n",
       "10                                           3   \n",
       "9                                            3   \n",
       "8                                            3   \n",
       "\n",
       "   param_gradientboostingclassifier__n_estimators  \\\n",
       "16                                             30   \n",
       "17                                             30   \n",
       "15                                             25   \n",
       "14                                             25   \n",
       "13                                             20   \n",
       "12                                             20   \n",
       "11                                             30   \n",
       "10                                             30   \n",
       "9                                              25   \n",
       "8                                              25   \n",
       "\n",
       "   param_simpleimputer__strategy  \\\n",
       "16                          mean   \n",
       "17                        median   \n",
       "15                        median   \n",
       "14                          mean   \n",
       "13                        median   \n",
       "12                          mean   \n",
       "11                        median   \n",
       "10                          mean   \n",
       "9                         median   \n",
       "8                           mean   \n",
       "\n",
       "                                               params  split0_test_score  \\\n",
       "16  {'gradientboostingclassifier__max_depth': 4, '...           0.922476   \n",
       "17  {'gradientboostingclassifier__max_depth': 4, '...           0.922476   \n",
       "15  {'gradientboostingclassifier__max_depth': 4, '...           0.920600   \n",
       "14  {'gradientboostingclassifier__max_depth': 4, '...           0.920600   \n",
       "13  {'gradientboostingclassifier__max_depth': 4, '...           0.917474   \n",
       "12  {'gradientboostingclassifier__max_depth': 4, '...           0.917474   \n",
       "11  {'gradientboostingclassifier__max_depth': 3, '...           0.907158   \n",
       "10  {'gradientboostingclassifier__max_depth': 3, '...           0.907158   \n",
       "9   {'gradientboostingclassifier__max_depth': 3, '...           0.903407   \n",
       "8   {'gradientboostingclassifier__max_depth': 3, '...           0.903407   \n",
       "\n",
       "    split1_test_score  split2_test_score  split3_test_score  \\\n",
       "16           0.924664           0.919350           0.922788   \n",
       "17           0.924664           0.919350           0.922476   \n",
       "15           0.924351           0.917474           0.921225   \n",
       "14           0.924351           0.917474           0.921225   \n",
       "13           0.923414           0.917787           0.920288   \n",
       "12           0.923414           0.917787           0.920288   \n",
       "11           0.914348           0.905595           0.913098   \n",
       "10           0.914348           0.905595           0.913098   \n",
       "9            0.913410           0.901844           0.908096   \n",
       "8            0.913410           0.901844           0.908096   \n",
       "\n",
       "    split4_test_score  mean_test_score  std_test_score  rank_test_score  \n",
       "16           0.922476         0.922351        0.001708                1  \n",
       "17           0.922476         0.922288        0.001696                2  \n",
       "15           0.919975         0.920725        0.002216                3  \n",
       "14           0.919975         0.920725        0.002216                3  \n",
       "13           0.919662         0.919725        0.002133                5  \n",
       "12           0.919662         0.919725        0.002133                5  \n",
       "11           0.898406         0.907721        0.005735                7  \n",
       "10           0.898406         0.907721        0.005735                7  \n",
       "9            0.896843         0.904720        0.005639                9  \n",
       "8            0.896843         0.904720        0.005639                9  "
      ]
     },
     "execution_count": 13,
     "metadata": {},
     "output_type": "execute_result"
    }
   ],
   "source": [
    "results = pd.DataFrame(model.cv_results_)\n",
    "results.sort_values(\"rank_test_score\").head(10)"
   ]
  },
  {
   "cell_type": "code",
   "execution_count": 14,
   "id": "bc0a6abe",
   "metadata": {},
   "outputs": [
    {
     "data": {
      "text/plain": [
       "{'gradientboostingclassifier__max_depth': 4,\n",
       " 'gradientboostingclassifier__n_estimators': 30,\n",
       " 'simpleimputer__strategy': 'mean'}"
      ]
     },
     "execution_count": 14,
     "metadata": {},
     "output_type": "execute_result"
    }
   ],
   "source": [
    "model.best_params_"
   ]
  },
  {
   "cell_type": "code",
   "execution_count": 15,
   "id": "7b46b64b",
   "metadata": {},
   "outputs": [
    {
     "name": "stdout",
     "output_type": "stream",
     "text": [
      "Training Accuracy: 0.9253\n",
      "Test Accuracy: 0.9236\n",
      "Training Accuracy: 0.9253\n",
      "Validation Accuracy: 0.9236\n"
     ]
    }
   ],
   "source": [
    "acc_train = model.score(X_train,y_train)\n",
    "acc_test = model.score(X_test,y_test)\n",
    "\n",
    "print(\"Training Accuracy:\", round(acc_train, 4))\n",
    "print(\"Test Accuracy:\", round(acc_test, 4))\n",
    "print(\"Training Accuracy:\", round(acc_train, 4))\n",
    "print(\"Validation Accuracy:\", round(acc_test, 4))"
   ]
  },
  {
   "cell_type": "code",
   "execution_count": 16,
   "id": "56a47cde",
   "metadata": {},
   "outputs": [
    {
     "data": {
      "image/png": "[encoded data removed]",
      "text/plain": [
       "<Figure size 432x288 with 2 Axes>"
      ]
     },
     "metadata": {
      "needs_background": "light"
     },
     "output_type": "display_data"
    }
   ],
   "source": [
    "# Plot confusion matrix\n",
    "ConfusionMatrixDisplay.from_estimator(model,X_test,y_test);"
   ]
  },
  {
   "cell_type": "code",
   "execution_count": 17,
   "id": "6ae68fed",
   "metadata": {},
   "outputs": [
    {
     "name": "stdout",
     "output_type": "stream",
     "text": [
      "              precision    recall  f1-score   support\n",
      "\n",
      "           0       0.91      0.99      0.95      5315\n",
      "           1       0.97      0.68      0.80      1540\n",
      "\n",
      "    accuracy                           0.92      6855\n",
      "   macro avg       0.94      0.84      0.88      6855\n",
      "weighted avg       0.93      0.92      0.92      6855\n",
      "\n"
     ]
    }
   ],
   "source": [
    "# Print classification report\n",
    "print(classification_report(y_test,model.predict(X_test)))"
   ]
  },
  {
   "cell_type": "code",
   "execution_count": 18,
   "id": "de15a935",
   "metadata": {},
   "outputs": [
    {
     "name": "stdout",
     "output_type": "stream",
     "text": [
      "(9731, 12)\n"
     ]
    }
   ],
   "source": [
    "df1 = pd.read_csv(r'C:\\Users\\kelvin\\OneDrive\\Desktop\\file1\\credit_risk_dataset_test.csv')\n",
    "print(df1.shape)\n",
    "df1.head()\n",
    "\n",
    "df1[\"person_emp_length\"].fillna( method ='ffill', inplace = True)\n",
    "df1[\"loan_int_rate\"].fillna( method ='ffill', inplace = True)\n",
    "\n",
    "ler =preprocessing.LabelEncoder()\n",
    "df1[\"person_home_ownership\"] = ler.fit_transform(df1[\"person_home_ownership\"])\n",
    "df1[\"loan_intent\"] = ler.fit_transform(df1[\"loan_intent\"])\n",
    "df1[\"loan_grade\"] = ler.fit_transform(df1[\"loan_grade\"])\n",
    "df1[\"cb_person_default_on_file\"] = ler.fit_transform(df1[\"cb_person_default_on_file\"])"
   ]
  },
  {
   "cell_type": "code",
   "execution_count": 19,
   "id": "f6811ec8",
   "metadata": {},
   "outputs": [
    {
     "data": {
      "text/plain": [
       "(9731, 11)"
      ]
     },
     "execution_count": 19,
     "metadata": {},
     "output_type": "execute_result"
    }
   ],
   "source": [
    "df1 = df1.drop(columns = \"loan_status\")\n",
    "df1.shape"
   ]
  },
  {
   "cell_type": "code",
   "execution_count": 20,
   "id": "1a2b52de",
   "metadata": {},
   "outputs": [
    {
     "name": "stderr",
     "output_type": "stream",
     "text": [
      "D:\\Stats_software\\Anaconda\\lib\\site-packages\\seaborn\\_decorators.py:36: FutureWarning: Pass the following variable as a keyword arg: x. From version 0.12, the only valid positional argument will be `data`, and passing other arguments without an explicit keyword will result in an error or misinterpretation.\n",
      "  warnings.warn(\n"
     ]
    },
    {
     "data": {
      "image/png": "[encoded data removed]",
      "text/plain": [
       "<Figure size 432x288 with 1 Axes>"
      ]
     },
     "metadata": {
      "needs_background": "light"
     },
     "output_type": "display_data"
    }
   ],
   "source": [
    "y_pred = model.predict(df1)\n",
    "y_pred_data =pd.DataFrame(y_pred)\n",
    "sns.countplot(y_pred_data[0]);"
   ]
  },
  {
   "cell_type": "code",
   "execution_count": 21,
   "id": "6869a09b",
   "metadata": {},
   "outputs": [
    {
     "data": {
      "text/html": [
       "<div>\n",
       "<style scoped>\n",
       "    .dataframe tbody tr th:only-of-type {\n",
       "        vertical-align: middle;\n",
       "    }\n",
       "\n",
       "    .dataframe tbody tr th {\n",
       "        vertical-align: top;\n",
       "    }\n",
       "\n",
       "    .dataframe thead th {\n",
       "        text-align: right;\n",
       "    }\n",
       "</style>\n",
       "<table border=\"1\" class=\"dataframe\">\n",
       "  <thead>\n",
       "    <tr style=\"text-align: right;\">\n",
       "      <th></th>\n",
       "      <th>0</th>\n",
       "    </tr>\n",
       "  </thead>\n",
       "  <tbody>\n",
       "    <tr>\n",
       "      <th>0</th>\n",
       "      <td>1</td>\n",
       "    </tr>\n",
       "    <tr>\n",
       "      <th>1</th>\n",
       "      <td>1</td>\n",
       "    </tr>\n",
       "    <tr>\n",
       "      <th>2</th>\n",
       "      <td>1</td>\n",
       "    </tr>\n",
       "    <tr>\n",
       "      <th>3</th>\n",
       "      <td>1</td>\n",
       "    </tr>\n",
       "    <tr>\n",
       "      <th>4</th>\n",
       "      <td>1</td>\n",
       "    </tr>\n",
       "    <tr>\n",
       "      <th>...</th>\n",
       "      <td>...</td>\n",
       "    </tr>\n",
       "    <tr>\n",
       "      <th>9726</th>\n",
       "      <td>0</td>\n",
       "    </tr>\n",
       "    <tr>\n",
       "      <th>9727</th>\n",
       "      <td>0</td>\n",
       "    </tr>\n",
       "    <tr>\n",
       "      <th>9728</th>\n",
       "      <td>1</td>\n",
       "    </tr>\n",
       "    <tr>\n",
       "      <th>9729</th>\n",
       "      <td>0</td>\n",
       "    </tr>\n",
       "    <tr>\n",
       "      <th>9730</th>\n",
       "      <td>1</td>\n",
       "    </tr>\n",
       "  </tbody>\n",
       "</table>\n",
       "<p>9731 rows × 1 columns</p>\n",
       "</div>"
      ],
      "text/plain": [
       "      0\n",
       "0     1\n",
       "1     1\n",
       "2     1\n",
       "3     1\n",
       "4     1\n",
       "...  ..\n",
       "9726  0\n",
       "9727  0\n",
       "9728  1\n",
       "9729  0\n",
       "9730  1\n",
       "\n",
       "[9731 rows x 1 columns]"
      ]
     },
     "execution_count": 21,
     "metadata": {},
     "output_type": "execute_result"
    }
   ],
   "source": [
    "pd.DataFrame(y_pred)"
   ]
  },
  {
   "cell_type": "code",
   "execution_count": 22,
   "id": "311f5944",
   "metadata": {},
   "outputs": [
    {
     "data": {
      "text/plain": [
       "array([[6431, 1071],\n",
       "       [1831,  398]], dtype=int64)"
      ]
     },
     "execution_count": 22,
     "metadata": {},
     "output_type": "execute_result"
    }
   ],
   "source": [
    "confusion_matrix(y.head(9731),y_pred)"
   ]
  }
 ],
 "metadata": {
  "kernelspec": {
   "display_name": "Python 3 (ipykernel)",
   "language": "python",
   "name": "python3"
  },
  "language_info": {
   "codemirror_mode": {
    "name": "ipython",
    "version": 3
   },
   "file_extension": ".py",
   "mimetype": "text/x-python",
   "name": "python",
   "nbconvert_exporter": "python",
   "pygments_lexer": "ipython3",
   "version": "3.9.12"
  }
 },
 "nbformat": 4,
 "nbformat_minor": 5
}
