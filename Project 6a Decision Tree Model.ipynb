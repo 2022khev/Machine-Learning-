{
 "cells": [
  {
   "cell_type": "markdown",
   "id": "9b2ace86",
   "metadata": {},
   "source": [
    "# Decision Tree"
   ]
  },
  {
   "cell_type": "markdown",
   "id": "2491e493",
   "metadata": {},
   "source": [
    "Decision Tree is the one of the supervised machine learning algorithm.Decision tree can be used for both classification and \n",
    "Regression problems, but it is mostly applied in  solving the classification problems.It is a tree-like structure that represents\n",
    "a series of decisions and their possible consequences classifier,where \n",
    "internal nodes represent the features of a dataset, branches represent the decision rules, and each leaf node represent the \n",
    "outcome.\n",
    "\n",
    "Decision nodes are used to make any decision and have multiple branches, whereas Leaf nodes are the output of those decisions \n",
    "and do not contain any further branches.\n",
    "The decisions or the test are perfomed on the basis of features of the given dataset.\n",
    "\n",
    "The goal of using a Decision Tree is to create a training model that can use to predict the class or value of the target variable \n",
    "by learning simple decision rules inferred from priori (training data).\n",
    "\n",
    "## Decision Tree Types\n",
    "### i) Categorical Variable Decision\n",
    "Has a categorical target variable \n",
    "### ii) Continous Variable Decision Tree\n",
    "Has a continous taget variable.\n",
    " \n",
    "# Decision Tree Terminology\n",
    "\n",
    "### Root Node\n",
    "The topmost node of a decision tree and  represent the entire population or sample and this further gets divided into two or more sub-nodes\n",
    "### Splitting\n",
    "It is a process of dividing a node into two or more sub-nodes\n",
    "### Decision Node/Internal node\n",
    "When a sub-node splits into further sub-nodes, then it is called the decision the decision node.\n",
    "  \n",
    "### Leaf/Terminal  Node \n",
    "Nodes do not split is called Leaf/Terminal node.It is the last node in the decison tree and furthest from the root node.\n",
    "### Pruning \n",
    "When sub-nodes of a decision node are removed.\n",
    "### Parent and Child Node\n",
    "A node , which is didived into sub-nodes is called a parent node of sub-nodes whrereas sub-nodes are the child of a parent node."
   ]
  },
  {
   "cell_type": "code",
   "execution_count": 1,
   "id": "f96846ca",
   "metadata": {},
   "outputs": [],
   "source": [
    "import pandas as pd \n",
    "import numpy as np\n",
    "import seaborn as sns\n",
    "import matplotlib.pyplot as plt\n",
    "\n",
    "from sklearn.preprocessing import OrdinalEncoder,StandardScaler\n",
    "from sklearn.impute import SimpleImputer\n",
    "from sklearn.model_selection import train_test_split\n",
    "\n",
    "import warnings\n",
    "warnings.simplefilter(\"ignore\")"
   ]
  },
  {
   "cell_type": "markdown",
   "id": "a601f919",
   "metadata": {},
   "source": [
    "# Entropy "
   ]
  },
  {
   "cell_type": "markdown",
   "id": "81bf936d",
   "metadata": {},
   "source": [
    "$ {\\sum}_{i=1}^C -p(i) {\\space}log_{2} {\\space}p(i) $\n",
    "\n",
    "pi is the probability of randomly selecting an example in class i.\n",
    "\n",
    "p1=49/54\n",
    "\n",
    "p2=5/54\n",
    "\n",
    "p3= ...\n",
    "\n",
    "pn= ...."
   ]
  },
  {
   "cell_type": "code",
   "execution_count": 2,
   "id": "3b8f800f",
   "metadata": {},
   "outputs": [
    {
     "data": {
      "text/plain": [
       "0.44506485705083865"
      ]
     },
     "execution_count": 2,
     "metadata": {},
     "output_type": "execute_result"
    }
   ],
   "source": [
    "def entropy(p1,p2,p3):\n",
    "    e=-(p1*np.log2(p1) + p2 * np.log2(p2))+ p3 * np.log2(p3)\n",
    "    return e\n",
    "entropy(49/54,5/54,1)"
   ]
  },
  {
   "cell_type": "markdown",
   "id": "a796d5b1",
   "metadata": {},
   "source": [
    "# Gini Index\n",
    "\n",
    "$G=\\sum_{i=1}^{C} p(i) * (1-p(i))$\n",
    "\n",
    "C is the total number of classes \n",
    "\n",
    "p(i) is the probability of picking the data points with the class i"
   ]
  },
  {
   "cell_type": "code",
   "execution_count": 3,
   "id": "179bdd16",
   "metadata": {},
   "outputs": [
    {
     "data": {
      "text/plain": [
       "0.5"
      ]
     },
     "execution_count": 3,
     "metadata": {},
     "output_type": "execute_result"
    }
   ],
   "source": [
    "def GiniIndex(p1,p2):\n",
    "    gini=p1*(1-p1)+(p2*(1-p2))\n",
    "    return gini\n",
    "GiniIndex(0.5,0.5)  "
   ]
  },
  {
   "cell_type": "markdown",
   "id": "47fc1a16",
   "metadata": {},
   "source": [
    "## Information Gain"
   ]
  },
  {
   "cell_type": "markdown",
   "id": "97919703",
   "metadata": {},
   "source": [
    "$ Gain=E_{parent}−{E}_{children} $\n",
    "\n",
    "$ IG(T,A) = Entropy(T) - \\sum_{VeA} \\frac{Tv} T .Entropy(Tv) $\n",
    "\n",
    "Entropy(T) is entropy at node before split(parent Node)\n",
    "\n",
    "Entropy(Tv) are entropies after split (Child Node)\n",
    "\n",
    "T is the total number of instances before split\n",
    "\n",
    "Tv is the number of instances after split\n",
    "\n",
    "$ Entropy(T) for Parent $\n",
    "\n",
    "$ Entropy(T) =  {\\sum}_{i=1}^C -p(i) {\\space}log_{2} {\\space}p(i) $\n",
    "\n",
    "Entropy(Tv) for Parent code\n",
    "\n",
    "$ Entropy(Tv) =  {\\sum}_{i=1}^C -p(i) {\\space}log_{2} {\\space}p(i) $"
   ]
  },
  {
   "cell_type": "markdown",
   "id": "b1b57b29",
   "metadata": {},
   "source": [
    "samples = 100\n",
    "parent value=[0,50,50]\n",
    "\n",
    "child1 = [0,49,5] #Samples =54\n",
    "\n",
    "child2 = [0,1,45 ]  #Samples = 46\n",
    "\n",
    "$ Parent $\n",
    "\n",
    "$ Entropy(T) =  {\\sum}_{i=1}^C -p(i) {\\space}log_{2} {\\space}p(i) $\n",
    "\n",
    "$ E(T) = \\frac {-50} {100} log_{2} \\frac{50}{100}=1$\n",
    "\n",
    "$Child 1$\n",
    "\n",
    "$ Entropy(T) =  {\\sum}_{i=1}^C -p(i) {\\space}log_{2} {\\space}p(i) $\n",
    "\n",
    "$ E(Tv) = \\frac {-49} {54} log_{2} \\frac{49}{54} - \\frac{5}{54} log_{2}\\frac {5}{54}=0.445$ \n",
    "\n",
    "$Child 2$\n",
    "\n",
    "$ Entropy(T) =  {\\sum}_{i=1}^C -p(i) {\\space}log_{2} {\\space}p(i) $\n",
    "\n",
    "$ E(Tv) = \\frac {-1} {46} log_{2} \\frac{1}{46} - \\frac{45}{46} log_{2}\\frac {45}{46}=0.1511$ \n",
    "\n",
    "$Information {\\space }Gain$\n",
    "\n",
    "$information {\\space} Gain= 1- \\frac {54}{100} * 0.445 - \\frac{46}{100}*{0.1511}$\n",
    "\n",
    "information Gain = 0.6901"
   ]
  },
  {
   "cell_type": "code",
   "execution_count": 4,
   "id": "1fd740ac",
   "metadata": {},
   "outputs": [
    {
     "data": {
      "text/plain": [
       "0.15109697051711368"
      ]
     },
     "execution_count": 4,
     "metadata": {},
     "output_type": "execute_result"
    }
   ],
   "source": [
    "def entropy(p1,p2,p3):\n",
    "    e=-(p1*np.log2(p1) + p2 * np.log2(p2))+ p3 * np.log2(p3)\n",
    "    return e\n",
    "entropy(1/46,45/46,1)"
   ]
  },
  {
   "cell_type": "code",
   "execution_count": 5,
   "id": "210bce7b",
   "metadata": {},
   "outputs": [
    {
     "data": {
      "text/plain": [
       "0.690194"
      ]
     },
     "execution_count": 5,
     "metadata": {},
     "output_type": "execute_result"
    }
   ],
   "source": [
    "def InformGain(samples,parent_n,entrop_parent,entrop_child):\n",
    "    fin1=(1-(parent_n/samples) * entrop_parent)\n",
    "    fin2=-(samples-parent_n)/samples * entrop_child\n",
    "    infGain=fin1+fin2\n",
    "    return   infGain\n",
    "InformGain(100,54,0.445,0.1511)"
   ]
  },
  {
   "cell_type": "code",
   "execution_count": 6,
   "id": "80a68f33",
   "metadata": {},
   "outputs": [
    {
     "name": "stdout",
     "output_type": "stream",
     "text": [
      "Parent Entropy: 1.0 with 100 Samples\n",
      "Child1 Entropy: 0.44506485705083865 with 54 Samples\n",
      "Child2 Entropy: 0.15109697051711368 with 46 Samples\n",
      "\n",
      "Information Gain\n"
     ]
    },
    {
     "data": {
      "text/plain": [
       "0.6901603707546748"
      ]
     },
     "execution_count": 6,
     "metadata": {},
     "output_type": "execute_result"
    }
   ],
   "source": [
    "def InformGain(pare1,pare2,child1,child2,parechi1,parechi2,samples,side1):\n",
    "    entropy_p=-(pare1*np.log2(pare1) + pare2 * np.log2(pare2))\n",
    "    entropy_c1=-(child1*np.log2(child1) + child2 * np.log2(child2))\n",
    "    entropy_c2=-(parechi1*np.log2(parechi1) + parechi2 * np.log2(parechi2))\n",
    "    side1= side1\n",
    "    side2=samples-side1\n",
    "    infoGain=entropy_p - ((side1/samples) *  entropy_c1)  - (side2/samples) *  entropy_c2\n",
    "  \n",
    "    print(\"Parent Entropy:\",entropy_p,\"with\",100,\"Samples\")\n",
    "    print(\"Child1 Entropy:\",entropy_c1,\"with\",side1,\"Samples\")\n",
    "    print('Child2 Entropy:',entropy_c2,\"with\",side2,\"Samples\")\n",
    "    print(\"\\nInformation Gain\")\n",
    "    return  infoGain\n",
    "InformGain(50/100,50/100,49/54,5/54,1/46,45/46,100,54)"
   ]
  },
  {
   "cell_type": "markdown",
   "id": "b0899136",
   "metadata": {},
   "source": [
    "# Project 6a"
   ]
  },
  {
   "cell_type": "code",
   "execution_count": 7,
   "id": "b8b6a1c6",
   "metadata": {},
   "outputs": [],
   "source": [
    "from sklearn.tree import DecisionTreeClassifier\n",
    "from sklearn.tree import plot_tree\n",
    "\n",
    "from sklearn.metrics import classification_report,accuracy_score,confusion_matrix,plot_roc_curve,ConfusionMatrixDisplay"
   ]
  },
  {
   "cell_type": "markdown",
   "id": "4051e814",
   "metadata": {},
   "source": [
    "## Data Features"
   ]
  },
  {
   "cell_type": "code",
   "execution_count": 8,
   "id": "94002dd8",
   "metadata": {},
   "outputs": [
    {
     "name": "stdout",
     "output_type": "stream",
     "text": [
      "      Sex  age  education currentSmoker  cigsPerDay BPMeds prevalentStroke  \\\n",
      "0    Male   39        4.0    NonCurrent         0.0     No              No   \n",
      "1  Female   46        2.0    NonCurrent         0.0     No              No   \n",
      "2    Male   48        1.0       Current        20.0     No              No   \n",
      "3  Female   61        3.0       Current        30.0     No              No   \n",
      "4  Female   46        3.0       Current        23.0     No              No   \n",
      "\n",
      "  prevalentHyp diabetes  totChol  sysBP  diaBP    BMI  heartRate  glucose  \\\n",
      "0           No       No    195.0  106.0   70.0  26.97       80.0     77.0   \n",
      "1           No       No    250.0  121.0   81.0  28.73       95.0     76.0   \n",
      "2           No       No    245.0  127.5   80.0  25.34       75.0     70.0   \n",
      "3          Yes       No    225.0  150.0   95.0  28.58       65.0    103.0   \n",
      "4           No       No    285.0  130.0   84.0  23.10       85.0     85.0   \n",
      "\n",
      "   TenYearCHD  \n",
      "0           0  \n",
      "1           0  \n",
      "2           0  \n",
      "3           1  \n",
      "4           0  \n"
     ]
    }
   ],
   "source": [
    "df = pd.read_csv(r\"framingham.csv\")\n",
    "print(df.head())"
   ]
  },
  {
   "cell_type": "markdown",
   "id": "077616e8",
   "metadata": {},
   "source": [
    "## Non-Numerical Features"
   ]
  },
  {
   "cell_type": "code",
   "execution_count": 9,
   "id": "5eb3a34c",
   "metadata": {},
   "outputs": [
    {
     "name": "stdout",
     "output_type": "stream",
     "text": [
      "['Sex', 'currentSmoker', 'BPMeds', 'prevalentStroke', 'prevalentHyp', 'diabetes']\n"
     ]
    }
   ],
   "source": [
    "feat_object=[i for i in df.columns if df[i].dtypes==\"object\"]\n",
    "print(feat_object)"
   ]
  },
  {
   "cell_type": "markdown",
   "id": "2cbe0995",
   "metadata": {},
   "source": [
    "# Encoding\n",
    "### Method 1: Ordinal Encoder"
   ]
  },
  {
   "cell_type": "code",
   "execution_count": 10,
   "id": "5240f504",
   "metadata": {},
   "outputs": [],
   "source": [
    "from sklearn.preprocessing import OrdinalEncoder\n",
    "orde =OrdinalEncoder()\n",
    "\n",
    "orde.fit(df[feat_object])\n",
    "df[feat_object] = orde.transform(df[feat_object] )"
   ]
  },
  {
   "cell_type": "markdown",
   "id": "e2323463",
   "metadata": {},
   "source": [
    "### Method 2: Encoding Pandas Map function"
   ]
  },
  {
   "cell_type": "code",
   "execution_count": 11,
   "id": "6c314c3d",
   "metadata": {},
   "outputs": [],
   "source": [
    "# for i in df.columns:\n",
    "#     if i in feat_object:\n",
    "#         df[i] =df[i].map({\"Male\":1,\"Female\":0,\"Yes\":1,\"No\":0,\"Current\":1,\"NonCurrent\":0})\n",
    "# df.head()"
   ]
  },
  {
   "cell_type": "code",
   "execution_count": 12,
   "id": "f9fd6274",
   "metadata": {},
   "outputs": [
    {
     "name": "stdout",
     "output_type": "stream",
     "text": [
      "education column has 105 null values\n",
      "cigsPerDay column has 29 null values\n",
      "BPMeds column has 53 null values\n",
      "totChol column has 50 null values\n",
      "BMI column has 19 null values\n",
      "heartRate column has 1 null values\n",
      "glucose column has 388 null values\n"
     ]
    }
   ],
   "source": [
    "for i in df.columns:\n",
    "    l= df[i].isna().sum()\n",
    "    if l>0:\n",
    "        print(i,\"column has\",df[i].isna().sum(),\"null values\")"
   ]
  },
  {
   "cell_type": "code",
   "execution_count": 13,
   "id": "44947a9a",
   "metadata": {},
   "outputs": [
    {
     "name": "stdout",
     "output_type": "stream",
     "text": [
      "Sex                float64\n",
      "age                  int64\n",
      "education          float64\n",
      "currentSmoker      float64\n",
      "cigsPerDay         float64\n",
      "BPMeds             float64\n",
      "prevalentStroke    float64\n",
      "prevalentHyp       float64\n",
      "diabetes           float64\n",
      "totChol            float64\n",
      "sysBP              float64\n",
      "diaBP              float64\n",
      "BMI                float64\n",
      "heartRate          float64\n",
      "glucose            float64\n",
      "TenYearCHD           int64\n",
      "dtype: object\n"
     ]
    }
   ],
   "source": [
    "print(df.dtypes)"
   ]
  },
  {
   "cell_type": "markdown",
   "id": "dcb76da1",
   "metadata": {},
   "source": [
    "# Imputation\n",
    "###  Method 1: Mean Imputation"
   ]
  },
  {
   "cell_type": "code",
   "execution_count": 14,
   "id": "740883c9",
   "metadata": {},
   "outputs": [],
   "source": [
    "# for i in df.columns:\n",
    "#     l= df[i].isna().sum()\n",
    "#     if l>0:\n",
    "#         means=df[i].mean()\n",
    "#         print(i,\"column has mean of \",means)"
   ]
  },
  {
   "cell_type": "code",
   "execution_count": 15,
   "id": "640efaac",
   "metadata": {},
   "outputs": [],
   "source": [
    "# for i in df.columns:\n",
    "#     df[i]=df[i].replace(np.NAN,value=df[i].mean())\n",
    "#     print(df[i].isna().sum())"
   ]
  },
  {
   "cell_type": "markdown",
   "id": "6f9c1035",
   "metadata": {},
   "source": [
    "###  Method 2: Median  Imputation"
   ]
  },
  {
   "cell_type": "code",
   "execution_count": 16,
   "id": "5f5e7375",
   "metadata": {},
   "outputs": [
    {
     "name": "stdout",
     "output_type": "stream",
     "text": [
      "education column has mean of  2.0\n",
      "cigsPerDay column has mean of  0.0\n",
      "BPMeds column has mean of  0.0\n",
      "totChol column has mean of  234.0\n",
      "BMI column has mean of  25.4\n",
      "heartRate column has mean of  75.0\n",
      "glucose column has mean of  78.0\n"
     ]
    }
   ],
   "source": [
    "for i in df.columns:\n",
    "    l= df[i].isna().sum()\n",
    "    if l>0:\n",
    "        median=df[i].median()\n",
    "        print(i,\"column has mean of \",median)"
   ]
  },
  {
   "cell_type": "code",
   "execution_count": 17,
   "id": "732a2c4c",
   "metadata": {},
   "outputs": [
    {
     "name": "stdout",
     "output_type": "stream",
     "text": [
      "0\n",
      "0\n",
      "0\n",
      "0\n",
      "0\n",
      "0\n",
      "0\n",
      "0\n",
      "0\n",
      "0\n",
      "0\n",
      "0\n",
      "0\n",
      "0\n",
      "0\n",
      "0\n"
     ]
    }
   ],
   "source": [
    "for i in df.columns:\n",
    "    df[i]=df[i].replace(np.NAN,value=df[i].median())\n",
    "    print(df[i].isna().sum())"
   ]
  },
  {
   "cell_type": "markdown",
   "id": "58cc181e",
   "metadata": {},
   "source": [
    "###  Method  3:        Zero/Constant  Imputation"
   ]
  },
  {
   "cell_type": "code",
   "execution_count": 18,
   "id": "ffc055bc",
   "metadata": {},
   "outputs": [],
   "source": [
    "target ='TenYearCHD'\n",
    "y=df[target]\n",
    "\n",
    "feat=[i for i in df.columns if 'TenYearCHD' not in i]\n",
    "X=df[feat]"
   ]
  },
  {
   "cell_type": "markdown",
   "id": "bf9d9a46",
   "metadata": {},
   "source": [
    "# Balancing Target Features to avoid OverFitting"
   ]
  },
  {
   "cell_type": "code",
   "execution_count": 19,
   "id": "4f8e98a1",
   "metadata": {},
   "outputs": [
    {
     "name": "stdout",
     "output_type": "stream",
     "text": [
      "0    0.848042\n",
      "1    0.151958\n",
      "Name: TenYearCHD, dtype: float64\n"
     ]
    }
   ],
   "source": [
    "print(df['TenYearCHD'].value_counts(normalize=True))"
   ]
  },
  {
   "cell_type": "markdown",
   "id": "7c6e7fed",
   "metadata": {},
   "source": [
    "## SMOTE"
   ]
  },
  {
   "cell_type": "code",
   "execution_count": 20,
   "id": "d0396661",
   "metadata": {},
   "outputs": [],
   "source": [
    "from imblearn.over_sampling import SMOTE,RandomOverSampler,ADASYN\n",
    "X_train, X_test, y_train, y_test = train_test_split(X, y,\n",
    "                                                   train_size=0.70,\n",
    "                                                    random_state=42)\n",
    "oversample = SMOTE(random_state=1)\n",
    "X_train_s,y_train_s=oversample.fit_resample(X_train,y_train)"
   ]
  },
  {
   "cell_type": "code",
   "execution_count": 21,
   "id": "e1c1f946",
   "metadata": {},
   "outputs": [
    {
     "name": "stdout",
     "output_type": "stream",
     "text": [
      "Before Balancing target Features:  0    0.846258\n",
      "1    0.153742\n",
      "Name: TenYearCHD, dtype: float64\n",
      "After Balancing target Features:  0    0.5\n",
      "1    0.5\n",
      "Name: TenYearCHD, dtype: float64\n"
     ]
    }
   ],
   "source": [
    "print(\"Before Balancing target Features: \",y_train.value_counts(normalize=True))\n",
    "print(\"After Balancing target Features: \",y_train_s.value_counts(normalize=True))"
   ]
  },
  {
   "cell_type": "markdown",
   "id": "72c3ddfe",
   "metadata": {},
   "source": [
    "## Train set and Test Set"
   ]
  },
  {
   "cell_type": "code",
   "execution_count": 22,
   "id": "0266735a",
   "metadata": {},
   "outputs": [
    {
     "name": "stdout",
     "output_type": "stream",
     "text": [
      "(2966, 15)\n",
      "(2966,)\n",
      "(1272, 15)\n",
      "(1272,)\n"
     ]
    }
   ],
   "source": [
    "X_train,X_test,y_train,y_test=train_test_split(X,y,test_size=0.3,random_state=42)\n",
    "print(X_train.shape)\n",
    "print(y_train.shape)\n",
    "print(X_test.shape)\n",
    "print(y_test.shape)"
   ]
  },
  {
   "cell_type": "markdown",
   "id": "a83d3b0f",
   "metadata": {},
   "source": [
    "##  Model Building"
   ]
  },
  {
   "cell_type": "markdown",
   "id": "47a31a0e",
   "metadata": {},
   "source": [
    "## Criterion 1 : Entropy"
   ]
  },
  {
   "cell_type": "code",
   "execution_count": 23,
   "id": "19c20f49",
   "metadata": {},
   "outputs": [],
   "source": [
    "# model_dt = DecisionTreeClassifier(criterion=\"entropy\",max_depth=3)\n",
    "# model_dt.fit(X_train_s,y_train_s)"
   ]
  },
  {
   "cell_type": "markdown",
   "id": "6b0387f9",
   "metadata": {},
   "source": [
    "## Criterion 2 : Gini"
   ]
  },
  {
   "cell_type": "code",
   "execution_count": 24,
   "id": "a5b3e6a8",
   "metadata": {},
   "outputs": [
    {
     "data": {
      "text/plain": [
       "DecisionTreeClassifier(max_depth=3)"
      ]
     },
     "execution_count": 24,
     "metadata": {},
     "output_type": "execute_result"
    }
   ],
   "source": [
    "model_dt = DecisionTreeClassifier(criterion=\"gini\",max_depth=3)\n",
    "model_dt.fit(X_train_s,y_train_s)"
   ]
  },
  {
   "cell_type": "markdown",
   "id": "56d46018",
   "metadata": {},
   "source": [
    "## Decision Tree Graph"
   ]
  },
  {
   "cell_type": "code",
   "execution_count": 25,
   "id": "2719e824",
   "metadata": {},
   "outputs": [
    {
     "data": {
      "image/png": "[encoded data removed]",
      "text/plain": [
       "<Figure size 864x432 with 1 Axes>"
      ]
     },
     "metadata": {
      "needs_background": "light"
     },
     "output_type": "display_data"
    }
   ],
   "source": [
    "plt.figure(figsize=(12,6))\n",
    "plot_tree(model_dt)\n",
    "plt.show()"
   ]
  },
  {
   "cell_type": "markdown",
   "id": "4fd1cc93",
   "metadata": {},
   "source": [
    "# Prediction"
   ]
  },
  {
   "cell_type": "code",
   "execution_count": 26,
   "id": "99645fe5",
   "metadata": {},
   "outputs": [
    {
     "data": {
      "text/plain": [
       "array([1, 0, 0, ..., 0, 0, 0], dtype=int64)"
      ]
     },
     "execution_count": 26,
     "metadata": {},
     "output_type": "execute_result"
    }
   ],
   "source": [
    "y_pred=model_dt.predict(X_test)\n",
    "y_pred"
   ]
  },
  {
   "cell_type": "markdown",
   "id": "83bc503a",
   "metadata": {},
   "source": [
    "## Model Evaluation"
   ]
  },
  {
   "cell_type": "markdown",
   "id": "060ee837",
   "metadata": {},
   "source": [
    "## i) Classification Report "
   ]
  },
  {
   "cell_type": "code",
   "execution_count": 27,
   "id": "b29a2e70",
   "metadata": {},
   "outputs": [
    {
     "name": "stdout",
     "output_type": "stream",
     "text": [
      "              precision    recall  f1-score   support\n",
      "\n",
      "           0       0.83      0.88      0.86      1020\n",
      "           1       0.37      0.28      0.32       252\n",
      "\n",
      "    accuracy                           0.76      1272\n",
      "   macro avg       0.60      0.58      0.59      1272\n",
      "weighted avg       0.74      0.76      0.75      1272\n",
      "\n"
     ]
    }
   ],
   "source": [
    "print(classification_report(y_pred,y_test))"
   ]
  },
  {
   "cell_type": "markdown",
   "id": "2c775f31",
   "metadata": {},
   "source": [
    "## ii) Accuracy Score"
   ]
  },
  {
   "cell_type": "code",
   "execution_count": 28,
   "id": "90b42fde",
   "metadata": {},
   "outputs": [
    {
     "name": "stdout",
     "output_type": "stream",
     "text": [
      "0.7641509433962265\n"
     ]
    }
   ],
   "source": [
    "print(accuracy_score(y_pred,y_test))"
   ]
  },
  {
   "cell_type": "markdown",
   "id": "bacbc9b6",
   "metadata": {},
   "source": [
    "## iii) Confusion Matrix"
   ]
  },
  {
   "cell_type": "code",
   "execution_count": 29,
   "id": "417e8cc6",
   "metadata": {},
   "outputs": [
    {
     "name": "stdout",
     "output_type": "stream",
     "text": [
      "[[902 182]\n",
      " [118  70]]\n"
     ]
    }
   ],
   "source": [
    "print(confusion_matrix(y_test,y_pred))"
   ]
  },
  {
   "cell_type": "code",
   "execution_count": 30,
   "id": "869d66c4",
   "metadata": {},
   "outputs": [
    {
     "data": {
      "image/png": "[encoded data removed]",
      "text/plain": [
       "<Figure size 432x288 with 2 Axes>"
      ]
     },
     "metadata": {
      "needs_background": "light"
     },
     "output_type": "display_data"
    }
   ],
   "source": [
    "ConfusionMatrixDisplay.from_estimator(model_dt,X_test,y_test,cmap='summer');"
   ]
  },
  {
   "cell_type": "markdown",
   "id": "290bb882",
   "metadata": {},
   "source": [
    "## ROC Curve"
   ]
  },
  {
   "cell_type": "code",
   "execution_count": 31,
   "id": "0e305f8b",
   "metadata": {},
   "outputs": [
    {
     "data": {
      "text/plain": [
       "<Figure size 864x432 with 0 Axes>"
      ]
     },
     "metadata": {},
     "output_type": "display_data"
    },
    {
     "data": {
      "image/png": "[encoded data removed]",
      "text/plain": [
       "<Figure size 432x288 with 1 Axes>"
      ]
     },
     "metadata": {
      "needs_background": "light"
     },
     "output_type": "display_data"
    }
   ],
   "source": [
    "plt.figure(figsize=(12,6))\n",
    "plot_roc_curve(model_dt,X_test,y_test,color='b',ls=\"--\");"
   ]
  }
 ],
 "metadata": {
  "kernelspec": {
   "display_name": "Python 3 (ipykernel)",
   "language": "python",
   "name": "python3"
  },
  "language_info": {
   "codemirror_mode": {
    "name": "ipython",
    "version": 3
   },
   "file_extension": ".py",
   "mimetype": "text/x-python",
   "name": "python",
   "nbconvert_exporter": "python",
   "pygments_lexer": "ipython3",
   "version": "3.9.12"
  }
 },
 "nbformat": 4,
 "nbformat_minor": 5
}
