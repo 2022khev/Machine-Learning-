{
 "cells": [
  {
   "cell_type": "code",
   "execution_count": 54,
   "id": "3af99c2f",
   "metadata": {},
   "outputs": [
    {
     "data": {
      "text/html": [
       "<div>\n",
       "<style scoped>\n",
       "    .dataframe tbody tr th:only-of-type {\n",
       "        vertical-align: middle;\n",
       "    }\n",
       "\n",
       "    .dataframe tbody tr th {\n",
       "        vertical-align: top;\n",
       "    }\n",
       "\n",
       "    .dataframe thead th {\n",
       "        text-align: right;\n",
       "    }\n",
       "</style>\n",
       "<table border=\"1\" class=\"dataframe\">\n",
       "  <thead>\n",
       "    <tr style=\"text-align: right;\">\n",
       "      <th></th>\n",
       "      <th>Study.Hours</th>\n",
       "      <th>Sleep.Hours</th>\n",
       "      <th>Watch.Hours</th>\n",
       "      <th>Group.Hours</th>\n",
       "      <th>Status</th>\n",
       "    </tr>\n",
       "  </thead>\n",
       "  <tbody>\n",
       "    <tr>\n",
       "      <th>0</th>\n",
       "      <td>6.0</td>\n",
       "      <td>6.0</td>\n",
       "      <td>3.0</td>\n",
       "      <td>2.0</td>\n",
       "      <td>Excellency</td>\n",
       "    </tr>\n",
       "    <tr>\n",
       "      <th>1</th>\n",
       "      <td>4.0</td>\n",
       "      <td>7.0</td>\n",
       "      <td>4.0</td>\n",
       "      <td>3.0</td>\n",
       "      <td>Good</td>\n",
       "    </tr>\n",
       "    <tr>\n",
       "      <th>2</th>\n",
       "      <td>7.0</td>\n",
       "      <td>6.5</td>\n",
       "      <td>2.0</td>\n",
       "      <td>2.0</td>\n",
       "      <td>Good</td>\n",
       "    </tr>\n",
       "    <tr>\n",
       "      <th>3</th>\n",
       "      <td>4.5</td>\n",
       "      <td>7.0</td>\n",
       "      <td>3.0</td>\n",
       "      <td>3.0</td>\n",
       "      <td>Average</td>\n",
       "    </tr>\n",
       "    <tr>\n",
       "      <th>4</th>\n",
       "      <td>6.6</td>\n",
       "      <td>7.5</td>\n",
       "      <td>4.0</td>\n",
       "      <td>2.0</td>\n",
       "      <td>Average</td>\n",
       "    </tr>\n",
       "  </tbody>\n",
       "</table>\n",
       "</div>"
      ],
      "text/plain": [
       "   Study.Hours  Sleep.Hours  Watch.Hours  Group.Hours      Status\n",
       "0          6.0          6.0          3.0          2.0  Excellency\n",
       "1          4.0          7.0          4.0          3.0        Good\n",
       "2          7.0          6.5          2.0          2.0        Good\n",
       "3          4.5          7.0          3.0          3.0     Average\n",
       "4          6.6          7.5          4.0          2.0     Average"
      ]
     },
     "execution_count": 54,
     "metadata": {},
     "output_type": "execute_result"
    }
   ],
   "source": [
    "import pandas as pd\n",
    "perfomance = pd.read_csv(r\"C:\\Users\\user\\Desktop\\perfomance.csv\")\n",
    "perfomance.head()"
   ]
  },
  {
   "cell_type": "code",
   "execution_count": 55,
   "id": "9d3f5fba",
   "metadata": {},
   "outputs": [
    {
     "data": {
      "text/plain": [
       "(50, 5)"
      ]
     },
     "execution_count": 55,
     "metadata": {},
     "output_type": "execute_result"
    }
   ],
   "source": [
    "perfomance.shape"
   ]
  },
  {
   "cell_type": "code",
   "execution_count": 56,
   "id": "14a95b3f",
   "metadata": {},
   "outputs": [],
   "source": [
    "from sklearn.preprocessing import LabelEncoder\n",
    "la = LabelEncoder()"
   ]
  },
  {
   "cell_type": "code",
   "execution_count": 57,
   "id": "55156519",
   "metadata": {},
   "outputs": [
    {
     "data": {
      "text/plain": [
       "array([1, 2, 2, 0, 0, 1, 1, 2, 1, 0, 1, 1, 1, 0, 0, 0, 1, 1, 0, 0, 1, 2,\n",
       "       2, 2, 2, 2, 2, 0, 0, 1, 1, 1, 0, 0, 1, 1, 2, 2, 2, 2, 0, 2, 2, 1,\n",
       "       1, 1, 2, 2, 0, 1])"
      ]
     },
     "execution_count": 57,
     "metadata": {},
     "output_type": "execute_result"
    }
   ],
   "source": [
    "lab = la.fit_transform(perfomance[\"Status\"])\n",
    "lab"
   ]
  },
  {
   "cell_type": "code",
   "execution_count": 58,
   "id": "21a23966",
   "metadata": {},
   "outputs": [],
   "source": [
    "perfomance.drop(\"Status\",axis=1,inplace=True)"
   ]
  },
  {
   "cell_type": "code",
   "execution_count": 59,
   "id": "41427f7a",
   "metadata": {},
   "outputs": [],
   "source": [
    "from sklearn.naive_bayes import GaussianNB\n",
    "from sklearn import metrics"
   ]
  },
  {
   "cell_type": "code",
   "execution_count": 60,
   "id": "00bb6334",
   "metadata": {},
   "outputs": [
    {
     "data": {
      "text/plain": [
       "GaussianNB()"
      ]
     },
     "execution_count": 60,
     "metadata": {},
     "output_type": "execute_result"
    }
   ],
   "source": [
    "model2 = GaussianNB()\n",
    "model2.fit(perfomance,lab)"
   ]
  },
  {
   "cell_type": "code",
   "execution_count": 61,
   "id": "28256c07",
   "metadata": {},
   "outputs": [],
   "source": [
    "expected2  = lab\n",
    "predicted2 =model2.predict(perfomance)"
   ]
  },
  {
   "cell_type": "code",
   "execution_count": 50,
   "id": "ff160e71",
   "metadata": {},
   "outputs": [
    {
     "name": "stdout",
     "output_type": "stream",
     "text": [
      "              precision    recall  f1-score   support\n",
      "\n",
      "           0       0.78      0.50      0.61        14\n",
      "           1       0.50      0.68      0.58        19\n",
      "           2       0.47      0.41      0.44        17\n",
      "\n",
      "    accuracy                           0.54        50\n",
      "   macro avg       0.58      0.53      0.54        50\n",
      "weighted avg       0.57      0.54      0.54        50\n",
      "\n"
     ]
    }
   ],
   "source": [
    "print(metrics.classification_report(expected2,predicted2))"
   ]
  },
  {
   "cell_type": "code",
   "execution_count": 51,
   "id": "c0450324",
   "metadata": {},
   "outputs": [
    {
     "name": "stdout",
     "output_type": "stream",
     "text": [
      "[[ 7  4  3]\n",
      " [ 1 13  5]\n",
      " [ 1  9  7]]\n"
     ]
    }
   ],
   "source": [
    "print(metrics.confusion_matrix(expected2,predicted2))"
   ]
  },
  {
   "cell_type": "code",
   "execution_count": null,
   "id": "4481c6ac",
   "metadata": {},
   "outputs": [],
   "source": []
  },
  {
   "cell_type": "code",
   "execution_count": null,
   "id": "42279468",
   "metadata": {},
   "outputs": [],
   "source": []
  }
 ],
 "metadata": {
  "kernelspec": {
   "display_name": "Python 3 (ipykernel)",
   "language": "python",
   "name": "python3"
  },
  "language_info": {
   "codemirror_mode": {
    "name": "ipython",
    "version": 3
   },
   "file_extension": ".py",
   "mimetype": "text/x-python",
   "name": "python",
   "nbconvert_exporter": "python",
   "pygments_lexer": "ipython3",
   "version": "3.9.7"
  }
 },
 "nbformat": 4,
 "nbformat_minor": 5
}
