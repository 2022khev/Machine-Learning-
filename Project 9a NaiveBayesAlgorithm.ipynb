{
 "cells": [
  {
   "cell_type": "markdown",
   "id": "2a69c587",
   "metadata": {},
   "source": [
    "## Naive Bayes Algorithm"
   ]
  },
  {
   "cell_type": "markdown",
   "id": "77b09f4b",
   "metadata": {},
   "source": [
    "Naive Bayes is a probabilistic machine  learning Algorithm based on the Bayes Theorem. \n",
    "Bayes Theorem is a way of finding probability when we know certain other probabilities.\n",
    "It is a simple,accurate and reliable algorithm and it is mostly applied in Natural Language Processing (NLP) tasks.\n",
    "Bayes Theorem is a simple mathematical formula used for calculating conditional probabilities.\n",
    "Conditional probability is a measure of the probability of an event occurring given the evidence or an assumption that \n",
    "another event has happened.\n",
    "\n",
    "In Naive Bayes Theorem no pair of the features are dependent, all the features are assummed to be independent.\n",
    "All of the  attributes are relevant and are contribiting equally to the outcome.\n",
    "In the real-world situations the Naive Bayes Algorithm assumptions of independence is never correct but works well in practice.\n",
    "Hence the name Naive"
   ]
  },
  {
   "cell_type": "markdown",
   "id": "d209ad5d",
   "metadata": {},
   "source": [
    "$ P(A|B) = \\frac {P(B|A)}  {P(B)} $"
   ]
  },
  {
   "cell_type": "raw",
   "id": "9a6d1816",
   "metadata": {},
   "source": [
    " P(A|B) = P(B|A) / P(B) \n",
    "\n",
    "P(A|B) is a  posterior probability.How often A occurs.\n",
    "P(B|A) how often B happens given that A happens\n",
    "P(A) how likely A is on its own\n",
    "P(B) how likely B is on ots own"
   ]
  },
  {
   "cell_type": "markdown",
   "id": "b3d4397e",
   "metadata": {},
   "source": [
    "The dataset is prepared by calculating a frequency table for each attribute.\n",
    "The class with the highest posterior probability is the outcome of the prediction\n",
    "y = is the class variable to found based on the condition\n",
    "features = X\n",
    "           X = (x1,x2,x3,...,xn)\n",
    "P(y|x1,...,xn) = P(x1|y) * P(x2|y) ... P(xn|y)P(y) / P(x1) * P(x2)...P(Xn)\n",
    "The denominator can be removed."
   ]
  },
  {
   "cell_type": "markdown",
   "id": "c7037b72",
   "metadata": {},
   "source": [
    "$X = (X_{1},X_{2},X_{3},...,X_{n})$\n",
    "\n",
    "\n",
    "\n",
    "$ P(y|X_{1},...,X_{2}) = \\frac {P(X_{1}|y) \\space * P(X_{2}|y) ... P(X_{n}|y)P(y)} {P(X_{1})  * P(X_{2})...P(X_{n})} $\n",
    "\n",
    "\n",
    "\n",
    "\n",
    "$ P(y|X_{1},...,X_{2}) = {P(X_{1}|y) \\space * P(X_{2}|y) ... P(X_{n}|y)P(y)}$"
   ]
  },
  {
   "cell_type": "markdown",
   "id": "46bf9dde",
   "metadata": {},
   "source": [
    "For example determining whether the school is Perfoming or Non-performing\n",
    "There will be three features to consider:\n",
    "    school category: (National/Not National)\n",
    "    Trainers Qualification : (Master Level / Degree Level)\n",
    "    Students enroll : (A grade / B grade )    \n",
    "        \n",
    "        \n",
    "school Category:                   Trainer Qualification:        Students:\n",
    "                  Perfoming?                  Performing?             Performing\n",
    "                  Yes     No                  Yes   No                Yes      No\n",
    "    National       8       6          Master    5    3            A     6      4\n",
    "    Non-National   2       4        Degree      5    7            B     3      6\n",
    "    \n",
    "What is the probability of a Non-national school with degree trainers and B grade students enrolled?\n",
    "P(Performing|X) = P(Non-National|Yes)*P(Degree|Yes) * P(Grade B|Yes)\n",
    "                = 2/10 + 5/10 + 3/10\n",
    "                =1\n",
    "P(Performing|X) = P(Non-National|No)*P(Degree|No)* P(Grade B|No)\n",
    "                = 4/10 + 7/10 + 6/10\n",
    "                =1.7"
   ]
  },
  {
   "cell_type": "markdown",
   "id": "4b4eea90",
   "metadata": {},
   "source": [
    "There are three types of:\n",
    "\n",
    "Bernoulli Naive Bayes\n",
    " It assumes that all our features are binary such that they take only two values. Means 0s can represent \"word does not occur\n",
    " in the document\" and 1s as \"word\" occurs in the document.\n",
    " \n",
    " Multinomial Naive Bayes it is used when we have discrete data(e.g movie ratings 1 and 5 as each rating will have certain frequency to represent). In text learning we have the count of each word to predict the class label.\n",
    " \n",
    " Gaussian Naive Bayes Because of the assumption of the normal distribution of the  normal distribution, Gaussian Naive Bayes is used in cases when all features are contionous."
   ]
  },
  {
   "cell_type": "markdown",
   "id": "f8fd29fb",
   "metadata": {},
   "source": [
    "## PART A: Gaussian Naive Bayes"
   ]
  },
  {
   "cell_type": "code",
   "execution_count": 1,
   "id": "d3e96d2d",
   "metadata": {},
   "outputs": [],
   "source": [
    "import pandas as pd\n",
    "import numpy as np\n",
    "import matplotlib.pyplot as plt\n",
    "import seaborn as sns\n",
    "from sklearn.preprocessing import StandardScaler,MinMaxScaler,OrdinalEncoder,LabelEncoder\n",
    "from sklearn.model_selection  import train_test_split\n",
    "from sklearn.naive_bayes import GaussianNB,GaussianNB,MultinomialNB, ComplementNB\n",
    "\n",
    "import warnings"
   ]
  },
  {
   "cell_type": "code",
   "execution_count": 2,
   "id": "499053a4",
   "metadata": {},
   "outputs": [
    {
     "data": {
      "text/plain": [
       "pandas.core.frame.DataFrame"
      ]
     },
     "execution_count": 2,
     "metadata": {},
     "output_type": "execute_result"
    }
   ],
   "source": [
    "df = pd.read_csv(\"framingham.csv\")\n",
    "type(df)"
   ]
  },
  {
   "cell_type": "code",
   "execution_count": 3,
   "id": "f509b175",
   "metadata": {},
   "outputs": [
    {
     "data": {
      "text/plain": [
       "['Sex',\n",
       " 'currentSmoker',\n",
       " 'BPMeds',\n",
       " 'prevalentStroke',\n",
       " 'prevalentHyp',\n",
       " 'diabetes']"
      ]
     },
     "execution_count": 3,
     "metadata": {},
     "output_type": "execute_result"
    }
   ],
   "source": [
    "feat_object= [i for i in df.columns if df[i].dtypes == 'object']\n",
    "feat_object"
   ]
  },
  {
   "cell_type": "code",
   "execution_count": 4,
   "id": "413da929",
   "metadata": {},
   "outputs": [],
   "source": [
    "orde =OrdinalEncoder()\n",
    "ler = LabelEncoder()\n",
    "\n",
    "\n",
    "\n",
    "orde.fit(df[feat_object])\n",
    "df[feat_object] = orde.transform(df[feat_object] )"
   ]
  },
  {
   "cell_type": "code",
   "execution_count": 5,
   "id": "757c0871",
   "metadata": {},
   "outputs": [
    {
     "data": {
      "text/plain": [
       "['education', 'cigsPerDay', 'BPMeds', 'totChol', 'BMI', 'heartRate', 'glucose']"
      ]
     },
     "execution_count": 5,
     "metadata": {},
     "output_type": "execute_result"
    }
   ],
   "source": [
    "null_col =[i for i in df.columns if df[i].isna().sum()>0 ]\n",
    "null_col"
   ]
  },
  {
   "cell_type": "code",
   "execution_count": 6,
   "id": "9a1bcd29",
   "metadata": {},
   "outputs": [
    {
     "name": "stdout",
     "output_type": "stream",
     "text": [
      "education\n",
      "cigsPerDay\n",
      "BPMeds\n",
      "totChol\n",
      "BMI\n",
      "heartRate\n",
      "glucose\n"
     ]
    }
   ],
   "source": [
    "for i in df.columns:\n",
    "    for j in null_col:\n",
    "        if j in i:\n",
    "            print(i)"
   ]
  },
  {
   "cell_type": "code",
   "execution_count": 7,
   "id": "4b4e9485",
   "metadata": {},
   "outputs": [
    {
     "name": "stdout",
     "output_type": "stream",
     "text": [
      "0\n",
      "0\n",
      "0\n",
      "0\n",
      "0\n",
      "0\n",
      "0\n"
     ]
    }
   ],
   "source": [
    "for i in df.columns:\n",
    "    k= df[i].isna().sum()\n",
    "    if k>0:\n",
    "        df[i] = df[i].replace(np.NaN,value = df[i].median())\n",
    "        print(df[i].isna().sum())"
   ]
  },
  {
   "cell_type": "code",
   "execution_count": 8,
   "id": "a29ddf30",
   "metadata": {},
   "outputs": [],
   "source": [
    "target ='TenYearCHD'\n",
    "y=df[target]\n",
    "\n",
    "feat=[i for i in df.columns if 'TenYearCHD' not in i]\n",
    "X=df[feat]"
   ]
  },
  {
   "cell_type": "code",
   "execution_count": 9,
   "id": "da661167",
   "metadata": {},
   "outputs": [],
   "source": [
    "X = orde.fit_transform(X)\n",
    "y = ler.fit_transform(y)"
   ]
  },
  {
   "cell_type": "code",
   "execution_count": 10,
   "id": "af6b18f2",
   "metadata": {},
   "outputs": [],
   "source": [
    "from imblearn.over_sampling import SMOTE,RandomOverSampler,ADASYN\n",
    "oversample = SMOTE(random_state=1)"
   ]
  },
  {
   "cell_type": "code",
   "execution_count": 11,
   "id": "5747d899",
   "metadata": {},
   "outputs": [],
   "source": [
    "from sklearn.model_selection import train_test_split\n",
    "X_train,X_test,y_train,y_test = train_test_split(X,y,test_size = 0.30,stratify=y)\n",
    "X_train,y_train=oversample.fit_resample(X_train,y_train)"
   ]
  },
  {
   "cell_type": "code",
   "execution_count": 12,
   "id": "59c61150",
   "metadata": {},
   "outputs": [],
   "source": [
    "scaling = MinMaxScaler(feature_range=(-1,1)).fit(X_train)\n",
    "x_train_rescaled = scaling.transform(X_train)"
   ]
  },
  {
   "cell_type": "code",
   "execution_count": 13,
   "id": "d2a06f8d",
   "metadata": {},
   "outputs": [
    {
     "data": {
      "text/html": [
       "<style>#sk-container-id-1 {color: black;}#sk-container-id-1 pre{padding: 0;}#sk-container-id-1 div.sk-toggleable {background-color: white;}#sk-container-id-1 label.sk-toggleable__label {cursor: pointer;display: block;width: 100%;margin-bottom: 0;padding: 0.3em;box-sizing: border-box;text-align: center;}#sk-container-id-1 label.sk-toggleable__label-arrow:before {content: \"▸\";float: left;margin-right: 0.25em;color: #696969;}#sk-container-id-1 label.sk-toggleable__label-arrow:hover:before {color: black;}#sk-container-id-1 div.sk-estimator:hover label.sk-toggleable__label-arrow:before {color: black;}#sk-container-id-1 div.sk-toggleable__content {max-height: 0;max-width: 0;overflow: hidden;text-align: left;background-color: #f0f8ff;}#sk-container-id-1 div.sk-toggleable__content pre {margin: 0.2em;color: black;border-radius: 0.25em;background-color: #f0f8ff;}#sk-container-id-1 input.sk-toggleable__control:checked~div.sk-toggleable__content {max-height: 200px;max-width: 100%;overflow: auto;}#sk-container-id-1 input.sk-toggleable__control:checked~label.sk-toggleable__label-arrow:before {content: \"▾\";}#sk-container-id-1 div.sk-estimator input.sk-toggleable__control:checked~label.sk-toggleable__label {background-color: #d4ebff;}#sk-container-id-1 div.sk-label input.sk-toggleable__control:checked~label.sk-toggleable__label {background-color: #d4ebff;}#sk-container-id-1 input.sk-hidden--visually {border: 0;clip: rect(1px 1px 1px 1px);clip: rect(1px, 1px, 1px, 1px);height: 1px;margin: -1px;overflow: hidden;padding: 0;position: absolute;width: 1px;}#sk-container-id-1 div.sk-estimator {font-family: monospace;background-color: #f0f8ff;border: 1px dotted black;border-radius: 0.25em;box-sizing: border-box;margin-bottom: 0.5em;}#sk-container-id-1 div.sk-estimator:hover {background-color: #d4ebff;}#sk-container-id-1 div.sk-parallel-item::after {content: \"\";width: 100%;border-bottom: 1px solid gray;flex-grow: 1;}#sk-container-id-1 div.sk-label:hover label.sk-toggleable__label {background-color: #d4ebff;}#sk-container-id-1 div.sk-serial::before {content: \"\";position: absolute;border-left: 1px solid gray;box-sizing: border-box;top: 0;bottom: 0;left: 50%;z-index: 0;}#sk-container-id-1 div.sk-serial {display: flex;flex-direction: column;align-items: center;background-color: white;padding-right: 0.2em;padding-left: 0.2em;position: relative;}#sk-container-id-1 div.sk-item {position: relative;z-index: 1;}#sk-container-id-1 div.sk-parallel {display: flex;align-items: stretch;justify-content: center;background-color: white;position: relative;}#sk-container-id-1 div.sk-item::before, #sk-container-id-1 div.sk-parallel-item::before {content: \"\";position: absolute;border-left: 1px solid gray;box-sizing: border-box;top: 0;bottom: 0;left: 50%;z-index: -1;}#sk-container-id-1 div.sk-parallel-item {display: flex;flex-direction: column;z-index: 1;position: relative;background-color: white;}#sk-container-id-1 div.sk-parallel-item:first-child::after {align-self: flex-end;width: 50%;}#sk-container-id-1 div.sk-parallel-item:last-child::after {align-self: flex-start;width: 50%;}#sk-container-id-1 div.sk-parallel-item:only-child::after {width: 0;}#sk-container-id-1 div.sk-dashed-wrapped {border: 1px dashed gray;margin: 0 0.4em 0.5em 0.4em;box-sizing: border-box;padding-bottom: 0.4em;background-color: white;}#sk-container-id-1 div.sk-label label {font-family: monospace;font-weight: bold;display: inline-block;line-height: 1.2em;}#sk-container-id-1 div.sk-label-container {text-align: center;}#sk-container-id-1 div.sk-container {/* jupyter's `normalize.less` sets `[hidden] { display: none; }` but bootstrap.min.css set `[hidden] { display: none !important; }` so we also need the `!important` here to be able to override the default hidden behavior on the sphinx rendered scikit-learn.org. See: https://github.com/scikit-learn/scikit-learn/issues/21755 */display: inline-block !important;position: relative;}#sk-container-id-1 div.sk-text-repr-fallback {display: none;}</style><div id=\"sk-container-id-1\" class=\"sk-top-container\"><div class=\"sk-text-repr-fallback\"><pre>GaussianNB()</pre><b>In a Jupyter environment, please rerun this cell to show the HTML representation or trust the notebook. <br />On GitHub, the HTML representation is unable to render, please try loading this page with nbviewer.org.</b></div><div class=\"sk-container\" hidden><div class=\"sk-item\"><div class=\"sk-estimator sk-toggleable\"><input class=\"sk-toggleable__control sk-hidden--visually\" id=\"sk-estimator-id-1\" type=\"checkbox\" checked><label for=\"sk-estimator-id-1\" class=\"sk-toggleable__label sk-toggleable__label-arrow\">GaussianNB</label><div class=\"sk-toggleable__content\"><pre>GaussianNB()</pre></div></div></div></div></div>"
      ],
      "text/plain": [
       "GaussianNB()"
      ]
     },
     "execution_count": 13,
     "metadata": {},
     "output_type": "execute_result"
    }
   ],
   "source": [
    "model1 = GaussianNB()\n",
    "model1.fit(x_train_rescaled,y_train)"
   ]
  },
  {
   "cell_type": "code",
   "execution_count": 14,
   "id": "55baabe2",
   "metadata": {},
   "outputs": [],
   "source": [
    "pred =model1.predict(X_test)"
   ]
  },
  {
   "cell_type": "code",
   "execution_count": 15,
   "id": "4f1b1065",
   "metadata": {},
   "outputs": [],
   "source": [
    "from sklearn.metrics import classification_report,accuracy_score,confusion_matrix"
   ]
  },
  {
   "cell_type": "code",
   "execution_count": 16,
   "id": "d3e2f0e7",
   "metadata": {},
   "outputs": [
    {
     "name": "stdout",
     "output_type": "stream",
     "text": [
      "              precision    recall  f1-score   support\n",
      "\n",
      "           0       0.88      0.01      0.03      1079\n",
      "           1       0.15      0.99      0.26       193\n",
      "\n",
      "    accuracy                           0.16      1272\n",
      "   macro avg       0.51      0.50      0.14      1272\n",
      "weighted avg       0.77      0.16      0.06      1272\n",
      "\n"
     ]
    }
   ],
   "source": [
    "print(classification_report(y_test,pred))"
   ]
  },
  {
   "cell_type": "code",
   "execution_count": 17,
   "id": "6d87141b",
   "metadata": {},
   "outputs": [
    {
     "name": "stdout",
     "output_type": "stream",
     "text": [
      "0.1611635220125786\n"
     ]
    }
   ],
   "source": [
    "print(accuracy_score(y_test,pred))"
   ]
  },
  {
   "cell_type": "markdown",
   "id": "a454a42f",
   "metadata": {},
   "source": [
    "## PART B: Multnomian Naive Bayes"
   ]
  },
  {
   "cell_type": "code",
   "execution_count": 31,
   "id": "cd881443",
   "metadata": {},
   "outputs": [
    {
     "name": "stdout",
     "output_type": "stream",
     "text": [
      "  Email No.  the  to  ect  and  for  of    a  you  hou  ...  connevey  jay  \\\n",
      "0   Email 1    0   0    1    0    0   0    2    0    0  ...         0    0   \n",
      "1   Email 2    8  13   24    6    6   2  102    1   27  ...         0    0   \n",
      "2   Email 3    0   0    1    0    0   0    8    0    0  ...         0    0   \n",
      "\n",
      "   valued  lay  infrastructure  military  allowing  ff  dry  Prediction  \n",
      "0       0    0               0         0         0   0    0           0  \n",
      "1       0    0               0         0         0   1    0           0  \n",
      "2       0    0               0         0         0   0    0           0  \n",
      "\n",
      "[3 rows x 3002 columns]\n"
     ]
    }
   ],
   "source": [
    "data = pd.read_csv(\"emails.csv\")\n",
    "print(data.head(3))"
   ]
  },
  {
   "cell_type": "code",
   "execution_count": 32,
   "id": "122b9ffa",
   "metadata": {},
   "outputs": [
    {
     "name": "stdout",
     "output_type": "stream",
     "text": [
      "   the  to  ect  and  for  of    a  you  hou  in  ...  enhancements  connevey  \\\n",
      "0    0   0    1    0    0   0    2    0    0   0  ...             0         0   \n",
      "1    8  13   24    6    6   2  102    1   27  18  ...             0         0   \n",
      "2    0   0    1    0    0   0    8    0    0   4  ...             0         0   \n",
      "3    0   5   22    0    5   1   51    2   10   1  ...             0         0   \n",
      "4    7   6   17    1    5   2   57    0    9   3  ...             0         0   \n",
      "\n",
      "   jay  valued  lay  infrastructure  military  allowing  ff  dry  \n",
      "0    0       0    0               0         0         0   0    0  \n",
      "1    0       0    0               0         0         0   1    0  \n",
      "2    0       0    0               0         0         0   0    0  \n",
      "3    0       0    0               0         0         0   0    0  \n",
      "4    0       0    0               0         0         0   1    0  \n",
      "\n",
      "[5 rows x 3000 columns]\n"
     ]
    }
   ],
   "source": [
    "features =data[ [i for i in data.iloc[:,1:].columns if \"Prediction\" not in i]]\n",
    "target = data['Prediction']\n",
    "print(features.head())"
   ]
  },
  {
   "cell_type": "code",
   "execution_count": 20,
   "id": "57d7dbd7",
   "metadata": {},
   "outputs": [],
   "source": [
    "x_train, x_test, y_train, y_test = train_test_split(features, target, \n",
    "                                                    test_size=0.2, \n",
    "                                                    random_state=42, \n",
    "                                                    stratify = target)"
   ]
  },
  {
   "cell_type": "code",
   "execution_count": 21,
   "id": "f19efd5c",
   "metadata": {},
   "outputs": [
    {
     "data": {
      "text/html": [
       "<style>#sk-container-id-2 {color: black;}#sk-container-id-2 pre{padding: 0;}#sk-container-id-2 div.sk-toggleable {background-color: white;}#sk-container-id-2 label.sk-toggleable__label {cursor: pointer;display: block;width: 100%;margin-bottom: 0;padding: 0.3em;box-sizing: border-box;text-align: center;}#sk-container-id-2 label.sk-toggleable__label-arrow:before {content: \"▸\";float: left;margin-right: 0.25em;color: #696969;}#sk-container-id-2 label.sk-toggleable__label-arrow:hover:before {color: black;}#sk-container-id-2 div.sk-estimator:hover label.sk-toggleable__label-arrow:before {color: black;}#sk-container-id-2 div.sk-toggleable__content {max-height: 0;max-width: 0;overflow: hidden;text-align: left;background-color: #f0f8ff;}#sk-container-id-2 div.sk-toggleable__content pre {margin: 0.2em;color: black;border-radius: 0.25em;background-color: #f0f8ff;}#sk-container-id-2 input.sk-toggleable__control:checked~div.sk-toggleable__content {max-height: 200px;max-width: 100%;overflow: auto;}#sk-container-id-2 input.sk-toggleable__control:checked~label.sk-toggleable__label-arrow:before {content: \"▾\";}#sk-container-id-2 div.sk-estimator input.sk-toggleable__control:checked~label.sk-toggleable__label {background-color: #d4ebff;}#sk-container-id-2 div.sk-label input.sk-toggleable__control:checked~label.sk-toggleable__label {background-color: #d4ebff;}#sk-container-id-2 input.sk-hidden--visually {border: 0;clip: rect(1px 1px 1px 1px);clip: rect(1px, 1px, 1px, 1px);height: 1px;margin: -1px;overflow: hidden;padding: 0;position: absolute;width: 1px;}#sk-container-id-2 div.sk-estimator {font-family: monospace;background-color: #f0f8ff;border: 1px dotted black;border-radius: 0.25em;box-sizing: border-box;margin-bottom: 0.5em;}#sk-container-id-2 div.sk-estimator:hover {background-color: #d4ebff;}#sk-container-id-2 div.sk-parallel-item::after {content: \"\";width: 100%;border-bottom: 1px solid gray;flex-grow: 1;}#sk-container-id-2 div.sk-label:hover label.sk-toggleable__label {background-color: #d4ebff;}#sk-container-id-2 div.sk-serial::before {content: \"\";position: absolute;border-left: 1px solid gray;box-sizing: border-box;top: 0;bottom: 0;left: 50%;z-index: 0;}#sk-container-id-2 div.sk-serial {display: flex;flex-direction: column;align-items: center;background-color: white;padding-right: 0.2em;padding-left: 0.2em;position: relative;}#sk-container-id-2 div.sk-item {position: relative;z-index: 1;}#sk-container-id-2 div.sk-parallel {display: flex;align-items: stretch;justify-content: center;background-color: white;position: relative;}#sk-container-id-2 div.sk-item::before, #sk-container-id-2 div.sk-parallel-item::before {content: \"\";position: absolute;border-left: 1px solid gray;box-sizing: border-box;top: 0;bottom: 0;left: 50%;z-index: -1;}#sk-container-id-2 div.sk-parallel-item {display: flex;flex-direction: column;z-index: 1;position: relative;background-color: white;}#sk-container-id-2 div.sk-parallel-item:first-child::after {align-self: flex-end;width: 50%;}#sk-container-id-2 div.sk-parallel-item:last-child::after {align-self: flex-start;width: 50%;}#sk-container-id-2 div.sk-parallel-item:only-child::after {width: 0;}#sk-container-id-2 div.sk-dashed-wrapped {border: 1px dashed gray;margin: 0 0.4em 0.5em 0.4em;box-sizing: border-box;padding-bottom: 0.4em;background-color: white;}#sk-container-id-2 div.sk-label label {font-family: monospace;font-weight: bold;display: inline-block;line-height: 1.2em;}#sk-container-id-2 div.sk-label-container {text-align: center;}#sk-container-id-2 div.sk-container {/* jupyter's `normalize.less` sets `[hidden] { display: none; }` but bootstrap.min.css set `[hidden] { display: none !important; }` so we also need the `!important` here to be able to override the default hidden behavior on the sphinx rendered scikit-learn.org. See: https://github.com/scikit-learn/scikit-learn/issues/21755 */display: inline-block !important;position: relative;}#sk-container-id-2 div.sk-text-repr-fallback {display: none;}</style><div id=\"sk-container-id-2\" class=\"sk-top-container\"><div class=\"sk-text-repr-fallback\"><pre>MultinomialNB()</pre><b>In a Jupyter environment, please rerun this cell to show the HTML representation or trust the notebook. <br />On GitHub, the HTML representation is unable to render, please try loading this page with nbviewer.org.</b></div><div class=\"sk-container\" hidden><div class=\"sk-item\"><div class=\"sk-estimator sk-toggleable\"><input class=\"sk-toggleable__control sk-hidden--visually\" id=\"sk-estimator-id-2\" type=\"checkbox\" checked><label for=\"sk-estimator-id-2\" class=\"sk-toggleable__label sk-toggleable__label-arrow\">MultinomialNB</label><div class=\"sk-toggleable__content\"><pre>MultinomialNB()</pre></div></div></div></div></div>"
      ],
      "text/plain": [
       "MultinomialNB()"
      ]
     },
     "execution_count": 21,
     "metadata": {},
     "output_type": "execute_result"
    }
   ],
   "source": [
    "model2 = MultinomialNB()\n",
    "model2.fit(x_train, y_train)"
   ]
  },
  {
   "cell_type": "code",
   "execution_count": 22,
   "id": "53dc0459",
   "metadata": {},
   "outputs": [
    {
     "name": "stdout",
     "output_type": "stream",
     "text": [
      "              precision    recall  f1-score   support\n",
      "\n",
      "           0       0.98      0.94      0.96       735\n",
      "           1       0.87      0.94      0.90       300\n",
      "\n",
      "    accuracy                           0.94      1035\n",
      "   macro avg       0.92      0.94      0.93      1035\n",
      "weighted avg       0.94      0.94      0.94      1035\n",
      "\n"
     ]
    }
   ],
   "source": [
    "y_test_pred = model2 .predict(x_test)\n",
    "print(classification_report(y_test,y_test_pred ))"
   ]
  },
  {
   "cell_type": "markdown",
   "id": "5887d241",
   "metadata": {},
   "source": [
    "##  PART C Bernoulli NB"
   ]
  },
  {
   "cell_type": "code",
   "execution_count": 23,
   "id": "1f32e907",
   "metadata": {},
   "outputs": [],
   "source": [
    "from sklearn.naive_bayes import BernoulliNB"
   ]
  },
  {
   "cell_type": "code",
   "execution_count": 24,
   "id": "18546831",
   "metadata": {},
   "outputs": [],
   "source": [
    "X = np.random.randint(2,size = (500,10))\n",
    "Y = np.random.randint(2,size = (500,10))"
   ]
  },
  {
   "cell_type": "code",
   "execution_count": 25,
   "id": "84767214",
   "metadata": {},
   "outputs": [],
   "source": [
    "X = X[:50,:10]\n",
    "y = Y[:50,:1]"
   ]
  },
  {
   "cell_type": "code",
   "execution_count": 33,
   "id": "44fe633c",
   "metadata": {},
   "outputs": [
    {
     "data": {
      "text/plain": [
       "array([[1],\n",
       "       [1],\n",
       "       [1],\n",
       "       [0],\n",
       "       [1],\n",
       "       [1],\n",
       "       [1],\n",
       "       [1],\n",
       "       [1],\n",
       "       [0]])"
      ]
     },
     "execution_count": 33,
     "metadata": {},
     "output_type": "execute_result"
    }
   ],
   "source": [
    "y[:10]"
   ]
  },
  {
   "cell_type": "code",
   "execution_count": 34,
   "id": "d6b9c632",
   "metadata": {},
   "outputs": [
    {
     "data": {
      "text/plain": [
       "array([[0],\n",
       "       [1],\n",
       "       [1],\n",
       "       [1],\n",
       "       [0],\n",
       "       [0],\n",
       "       [1],\n",
       "       [1],\n",
       "       [0],\n",
       "       [0]])"
      ]
     },
     "execution_count": 34,
     "metadata": {},
     "output_type": "execute_result"
    }
   ],
   "source": [
    "y_test[:10]"
   ]
  },
  {
   "cell_type": "code",
   "execution_count": 28,
   "id": "418c850f",
   "metadata": {},
   "outputs": [
    {
     "name": "stderr",
     "output_type": "stream",
     "text": [
      "D:\\Anaconda\\Anaconda\\Lib\\site-packages\\sklearn\\utils\\validation.py:1184: DataConversionWarning: A column-vector y was passed when a 1d array was expected. Please change the shape of y to (n_samples, ), for example using ravel().\n",
      "  y = column_or_1d(y, warn=True)\n"
     ]
    }
   ],
   "source": [
    "X_train,X_test,y_train,y_test = train_test_split(X,y,test_size = 0.30,stratify=y)\n",
    "\n",
    "clf = BernoulliNB()\n",
    "model3 = clf.fit(X,y)"
   ]
  },
  {
   "cell_type": "code",
   "execution_count": 29,
   "id": "c1967787",
   "metadata": {},
   "outputs": [
    {
     "name": "stdout",
     "output_type": "stream",
     "text": [
      "0.9333333333333333\n"
     ]
    }
   ],
   "source": [
    "y_pred =model3.predict(X_test)\n",
    "print(accuracy_score(y_test,y_pred))"
   ]
  }
 ],
 "metadata": {
  "kernelspec": {
   "display_name": "Python 3 (ipykernel)",
   "language": "python",
   "name": "python3"
  },
  "language_info": {
   "codemirror_mode": {
    "name": "ipython",
    "version": 3
   },
   "file_extension": ".py",
   "mimetype": "text/x-python",
   "name": "python",
   "nbconvert_exporter": "python",
   "pygments_lexer": "ipython3",
   "version": "3.11.5"
  }
 },
 "nbformat": 4,
 "nbformat_minor": 5
}
