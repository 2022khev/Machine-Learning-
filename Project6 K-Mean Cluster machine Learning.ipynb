{
 "cells": [
  {
   "cell_type": "code",
   "execution_count": 83,
   "id": "5f932b88",
   "metadata": {},
   "outputs": [],
   "source": [
    "from sklearn.cluster import KMeans\n",
    "import pandas as pd\n",
    "from sklearn.preprocessing import MinMaxScaler\n",
    "from matplotlib import pyplot as plt\n",
    "%matplotlib inline"
   ]
  },
  {
   "cell_type": "code",
   "execution_count": 84,
   "id": "f84caf07",
   "metadata": {},
   "outputs": [
    {
     "name": "stdout",
     "output_type": "stream",
     "text": [
      "     School  No.Tuitors  Grade\n",
      "0  Alliance          40   11.9\n",
      "1     Mangu          38   11.8\n",
      "2  Kabsabet          39   11.5\n",
      "3     Kampi          15    7.1\n",
      "4     Mercy          13    7.3\n"
     ]
    }
   ],
   "source": [
    "dat = pd.read_csv(r\"C:\\Users\\user\\Desktop\\schools.csv\")\n",
    "print(dat.head())"
   ]
  },
  {
   "cell_type": "code",
   "execution_count": 85,
   "id": "f1ded5ab",
   "metadata": {},
   "outputs": [
    {
     "data": {
      "text/plain": [
       "<matplotlib.collections.PathCollection at 0x245acbf3af0>"
      ]
     },
     "execution_count": 85,
     "metadata": {},
     "output_type": "execute_result"
    },
    {
     "data": {
      "image/png": "[encoded data removed]",
      "text/plain": [
       "<Figure size 432x288 with 1 Axes>"
      ]
     },
     "metadata": {
      "needs_background": "light"
     },
     "output_type": "display_data"
    }
   ],
   "source": [
    "plt.scatter(dat[\"No.Tuitors\"],dat[\"Grade\"])"
   ]
  },
  {
   "cell_type": "code",
   "execution_count": 86,
   "id": "fc123b29",
   "metadata": {},
   "outputs": [
    {
     "data": {
      "text/plain": [
       "KMeans(n_clusters=3)"
      ]
     },
     "execution_count": 86,
     "metadata": {},
     "output_type": "execute_result"
    }
   ],
   "source": [
    "km = KMeans(n_clusters = 3)\n",
    "km"
   ]
  },
  {
   "cell_type": "code",
   "execution_count": 87,
   "id": "5d5cd80d",
   "metadata": {},
   "outputs": [
    {
     "data": {
      "text/plain": [
       "array([2, 2, 2, 1, 1, 1, 1, 2, 1, 0, 2, 0, 2, 0, 2, 0, 0, 1, 0, 1])"
      ]
     },
     "execution_count": 87,
     "metadata": {},
     "output_type": "execute_result"
    }
   ],
   "source": [
    "y_predicted = km.fit_predict(dat[[\"No.Tuitors\",\"Grade\"]])\n",
    "y_predicted"
   ]
  },
  {
   "cell_type": "code",
   "execution_count": 88,
   "id": "63015049",
   "metadata": {},
   "outputs": [
    {
     "data": {
      "text/html": [
       "<div>\n",
       "<style scoped>\n",
       "    .dataframe tbody tr th:only-of-type {\n",
       "        vertical-align: middle;\n",
       "    }\n",
       "\n",
       "    .dataframe tbody tr th {\n",
       "        vertical-align: top;\n",
       "    }\n",
       "\n",
       "    .dataframe thead th {\n",
       "        text-align: right;\n",
       "    }\n",
       "</style>\n",
       "<table border=\"1\" class=\"dataframe\">\n",
       "  <thead>\n",
       "    <tr style=\"text-align: right;\">\n",
       "      <th></th>\n",
       "      <th>School</th>\n",
       "      <th>No.Tuitors</th>\n",
       "      <th>Grade</th>\n",
       "      <th>cluter</th>\n",
       "    </tr>\n",
       "  </thead>\n",
       "  <tbody>\n",
       "    <tr>\n",
       "      <th>0</th>\n",
       "      <td>Alliance</td>\n",
       "      <td>40</td>\n",
       "      <td>11.9</td>\n",
       "      <td>2</td>\n",
       "    </tr>\n",
       "    <tr>\n",
       "      <th>1</th>\n",
       "      <td>Mangu</td>\n",
       "      <td>38</td>\n",
       "      <td>11.8</td>\n",
       "      <td>2</td>\n",
       "    </tr>\n",
       "    <tr>\n",
       "      <th>2</th>\n",
       "      <td>Kabsabet</td>\n",
       "      <td>39</td>\n",
       "      <td>11.5</td>\n",
       "      <td>2</td>\n",
       "    </tr>\n",
       "    <tr>\n",
       "      <th>3</th>\n",
       "      <td>Kampi</td>\n",
       "      <td>15</td>\n",
       "      <td>7.1</td>\n",
       "      <td>1</td>\n",
       "    </tr>\n",
       "    <tr>\n",
       "      <th>4</th>\n",
       "      <td>Mercy</td>\n",
       "      <td>13</td>\n",
       "      <td>7.3</td>\n",
       "      <td>1</td>\n",
       "    </tr>\n",
       "  </tbody>\n",
       "</table>\n",
       "</div>"
      ],
      "text/plain": [
       "     School  No.Tuitors  Grade  cluter\n",
       "0  Alliance          40   11.9       2\n",
       "1     Mangu          38   11.8       2\n",
       "2  Kabsabet          39   11.5       2\n",
       "3     Kampi          15    7.1       1\n",
       "4     Mercy          13    7.3       1"
      ]
     },
     "execution_count": 88,
     "metadata": {},
     "output_type": "execute_result"
    }
   ],
   "source": [
    "dat[\"cluter\"] = y_predicted\n",
    "dat.head()"
   ]
  },
  {
   "cell_type": "code",
   "execution_count": 89,
   "id": "c21bec87",
   "metadata": {},
   "outputs": [],
   "source": [
    "dat1 = dat[dat.cluter == 0 ]\n",
    "dat2 = dat[dat.cluter == 1 ]\n",
    "dat3 = dat[dat.cluter == 2 ]"
   ]
  },
  {
   "cell_type": "code",
   "execution_count": 90,
   "id": "c7b4d0e6",
   "metadata": {},
   "outputs": [
    {
     "data": {
      "text/plain": [
       "<matplotlib.collections.PathCollection at 0x245acc64f70>"
      ]
     },
     "execution_count": 90,
     "metadata": {},
     "output_type": "execute_result"
    },
    {
     "data": {
      "image/png": "[encoded data removed]",
      "text/plain": [
       "<Figure size 432x288 with 1 Axes>"
      ]
     },
     "metadata": {
      "needs_background": "light"
     },
     "output_type": "display_data"
    }
   ],
   "source": [
    "plt.scatter(dat1.Grade,dat1[\"No.Tuitors\"],color = \"blue\")\n",
    "plt.scatter(dat2.Grade,dat2[\"No.Tuitors\"],color = \"orange\")\n",
    "plt.scatter(dat3.Grade,dat3[\"No.Tuitors\"],color = \"red\")"
   ]
  },
  {
   "cell_type": "code",
   "execution_count": 91,
   "id": "a46be8ab",
   "metadata": {},
   "outputs": [],
   "source": [
    "scaler = MinMaxScaler()"
   ]
  },
  {
   "cell_type": "code",
   "execution_count": 92,
   "id": "6f0e69c6",
   "metadata": {},
   "outputs": [
    {
     "data": {
      "text/plain": [
       "MinMaxScaler()"
      ]
     },
     "execution_count": 92,
     "metadata": {},
     "output_type": "execute_result"
    }
   ],
   "source": [
    "scaler.fit(dat[[\"No.Tuitors\"]])"
   ]
  },
  {
   "cell_type": "code",
   "execution_count": 93,
   "id": "ac23f4c8",
   "metadata": {},
   "outputs": [
    {
     "data": {
      "text/html": [
       "<div>\n",
       "<style scoped>\n",
       "    .dataframe tbody tr th:only-of-type {\n",
       "        vertical-align: middle;\n",
       "    }\n",
       "\n",
       "    .dataframe tbody tr th {\n",
       "        vertical-align: top;\n",
       "    }\n",
       "\n",
       "    .dataframe thead th {\n",
       "        text-align: right;\n",
       "    }\n",
       "</style>\n",
       "<table border=\"1\" class=\"dataframe\">\n",
       "  <thead>\n",
       "    <tr style=\"text-align: right;\">\n",
       "      <th></th>\n",
       "      <th>School</th>\n",
       "      <th>No.Tuitors</th>\n",
       "      <th>Grade</th>\n",
       "      <th>cluter</th>\n",
       "    </tr>\n",
       "  </thead>\n",
       "  <tbody>\n",
       "    <tr>\n",
       "      <th>0</th>\n",
       "      <td>Alliance</td>\n",
       "      <td>0.964286</td>\n",
       "      <td>11.90</td>\n",
       "      <td>2</td>\n",
       "    </tr>\n",
       "    <tr>\n",
       "      <th>1</th>\n",
       "      <td>Mangu</td>\n",
       "      <td>0.892857</td>\n",
       "      <td>11.80</td>\n",
       "      <td>2</td>\n",
       "    </tr>\n",
       "    <tr>\n",
       "      <th>2</th>\n",
       "      <td>Kabsabet</td>\n",
       "      <td>0.928571</td>\n",
       "      <td>11.50</td>\n",
       "      <td>2</td>\n",
       "    </tr>\n",
       "    <tr>\n",
       "      <th>3</th>\n",
       "      <td>Kampi</td>\n",
       "      <td>0.071429</td>\n",
       "      <td>7.10</td>\n",
       "      <td>1</td>\n",
       "    </tr>\n",
       "    <tr>\n",
       "      <th>4</th>\n",
       "      <td>Mercy</td>\n",
       "      <td>0.000000</td>\n",
       "      <td>7.30</td>\n",
       "      <td>1</td>\n",
       "    </tr>\n",
       "    <tr>\n",
       "      <th>5</th>\n",
       "      <td>Kiamunyi</td>\n",
       "      <td>0.107143</td>\n",
       "      <td>7.50</td>\n",
       "      <td>1</td>\n",
       "    </tr>\n",
       "    <tr>\n",
       "      <th>6</th>\n",
       "      <td>Athinai</td>\n",
       "      <td>0.035714</td>\n",
       "      <td>7.50</td>\n",
       "      <td>1</td>\n",
       "    </tr>\n",
       "    <tr>\n",
       "      <th>7</th>\n",
       "      <td>Nakuru</td>\n",
       "      <td>0.785714</td>\n",
       "      <td>11.30</td>\n",
       "      <td>2</td>\n",
       "    </tr>\n",
       "    <tr>\n",
       "      <th>8</th>\n",
       "      <td>Menengai</td>\n",
       "      <td>0.071429</td>\n",
       "      <td>9.00</td>\n",
       "      <td>1</td>\n",
       "    </tr>\n",
       "    <tr>\n",
       "      <th>9</th>\n",
       "      <td>Solai</td>\n",
       "      <td>0.571429</td>\n",
       "      <td>9.60</td>\n",
       "      <td>0</td>\n",
       "    </tr>\n",
       "    <tr>\n",
       "      <th>10</th>\n",
       "      <td>Murang'a</td>\n",
       "      <td>1.000000</td>\n",
       "      <td>11.20</td>\n",
       "      <td>2</td>\n",
       "    </tr>\n",
       "    <tr>\n",
       "      <th>11</th>\n",
       "      <td>Esageri</td>\n",
       "      <td>0.714286</td>\n",
       "      <td>9.30</td>\n",
       "      <td>0</td>\n",
       "    </tr>\n",
       "    <tr>\n",
       "      <th>12</th>\n",
       "      <td>Maseno</td>\n",
       "      <td>0.928571</td>\n",
       "      <td>11.20</td>\n",
       "      <td>2</td>\n",
       "    </tr>\n",
       "    <tr>\n",
       "      <th>13</th>\n",
       "      <td>Poror</td>\n",
       "      <td>0.464286</td>\n",
       "      <td>9.50</td>\n",
       "      <td>0</td>\n",
       "    </tr>\n",
       "    <tr>\n",
       "      <th>14</th>\n",
       "      <td>Litein</td>\n",
       "      <td>0.857143</td>\n",
       "      <td>10.00</td>\n",
       "      <td>2</td>\n",
       "    </tr>\n",
       "    <tr>\n",
       "      <th>15</th>\n",
       "      <td>Seserina</td>\n",
       "      <td>0.535714</td>\n",
       "      <td>9.10</td>\n",
       "      <td>0</td>\n",
       "    </tr>\n",
       "    <tr>\n",
       "      <th>16</th>\n",
       "      <td>Anesta</td>\n",
       "      <td>0.607143</td>\n",
       "      <td>9.70</td>\n",
       "      <td>0</td>\n",
       "    </tr>\n",
       "    <tr>\n",
       "      <th>17</th>\n",
       "      <td>Goshen</td>\n",
       "      <td>0.285714</td>\n",
       "      <td>9.90</td>\n",
       "      <td>1</td>\n",
       "    </tr>\n",
       "    <tr>\n",
       "      <th>18</th>\n",
       "      <td>Rongai</td>\n",
       "      <td>0.714286</td>\n",
       "      <td>11.50</td>\n",
       "      <td>0</td>\n",
       "    </tr>\n",
       "    <tr>\n",
       "      <th>19</th>\n",
       "      <td>OlRongai</td>\n",
       "      <td>0.071429</td>\n",
       "      <td>6.99</td>\n",
       "      <td>1</td>\n",
       "    </tr>\n",
       "  </tbody>\n",
       "</table>\n",
       "</div>"
      ],
      "text/plain": [
       "      School  No.Tuitors  Grade  cluter\n",
       "0   Alliance    0.964286  11.90       2\n",
       "1      Mangu    0.892857  11.80       2\n",
       "2   Kabsabet    0.928571  11.50       2\n",
       "3      Kampi    0.071429   7.10       1\n",
       "4      Mercy    0.000000   7.30       1\n",
       "5   Kiamunyi    0.107143   7.50       1\n",
       "6    Athinai    0.035714   7.50       1\n",
       "7     Nakuru    0.785714  11.30       2\n",
       "8   Menengai    0.071429   9.00       1\n",
       "9      Solai    0.571429   9.60       0\n",
       "10  Murang'a    1.000000  11.20       2\n",
       "11   Esageri    0.714286   9.30       0\n",
       "12    Maseno    0.928571  11.20       2\n",
       "13     Poror    0.464286   9.50       0\n",
       "14    Litein    0.857143  10.00       2\n",
       "15  Seserina    0.535714   9.10       0\n",
       "16    Anesta    0.607143   9.70       0\n",
       "17    Goshen    0.285714   9.90       1\n",
       "18    Rongai    0.714286  11.50       0\n",
       "19  OlRongai    0.071429   6.99       1"
      ]
     },
     "execution_count": 93,
     "metadata": {},
     "output_type": "execute_result"
    }
   ],
   "source": [
    "dat[[\"No.Tuitors\"]] = scaler.transform(dat[[\"No.Tuitors\"]])\n",
    "dat"
   ]
  },
  {
   "cell_type": "code",
   "execution_count": 94,
   "id": "559a5605",
   "metadata": {},
   "outputs": [
    {
     "data": {
      "text/plain": [
       "MinMaxScaler()"
      ]
     },
     "execution_count": 94,
     "metadata": {},
     "output_type": "execute_result"
    }
   ],
   "source": [
    "scaler.fit(dat[[\"Grade\"]])"
   ]
  },
  {
   "cell_type": "code",
   "execution_count": 95,
   "id": "79b40881",
   "metadata": {},
   "outputs": [
    {
     "data": {
      "text/html": [
       "<div>\n",
       "<style scoped>\n",
       "    .dataframe tbody tr th:only-of-type {\n",
       "        vertical-align: middle;\n",
       "    }\n",
       "\n",
       "    .dataframe tbody tr th {\n",
       "        vertical-align: top;\n",
       "    }\n",
       "\n",
       "    .dataframe thead th {\n",
       "        text-align: right;\n",
       "    }\n",
       "</style>\n",
       "<table border=\"1\" class=\"dataframe\">\n",
       "  <thead>\n",
       "    <tr style=\"text-align: right;\">\n",
       "      <th></th>\n",
       "      <th>School</th>\n",
       "      <th>No.Tuitors</th>\n",
       "      <th>Grade</th>\n",
       "      <th>cluter</th>\n",
       "    </tr>\n",
       "  </thead>\n",
       "  <tbody>\n",
       "    <tr>\n",
       "      <th>0</th>\n",
       "      <td>Alliance</td>\n",
       "      <td>0.964286</td>\n",
       "      <td>1.000000</td>\n",
       "      <td>2</td>\n",
       "    </tr>\n",
       "    <tr>\n",
       "      <th>1</th>\n",
       "      <td>Mangu</td>\n",
       "      <td>0.892857</td>\n",
       "      <td>0.979633</td>\n",
       "      <td>2</td>\n",
       "    </tr>\n",
       "    <tr>\n",
       "      <th>2</th>\n",
       "      <td>Kabsabet</td>\n",
       "      <td>0.928571</td>\n",
       "      <td>0.918534</td>\n",
       "      <td>2</td>\n",
       "    </tr>\n",
       "    <tr>\n",
       "      <th>3</th>\n",
       "      <td>Kampi</td>\n",
       "      <td>0.071429</td>\n",
       "      <td>0.022403</td>\n",
       "      <td>1</td>\n",
       "    </tr>\n",
       "    <tr>\n",
       "      <th>4</th>\n",
       "      <td>Mercy</td>\n",
       "      <td>0.000000</td>\n",
       "      <td>0.063136</td>\n",
       "      <td>1</td>\n",
       "    </tr>\n",
       "    <tr>\n",
       "      <th>5</th>\n",
       "      <td>Kiamunyi</td>\n",
       "      <td>0.107143</td>\n",
       "      <td>0.103870</td>\n",
       "      <td>1</td>\n",
       "    </tr>\n",
       "    <tr>\n",
       "      <th>6</th>\n",
       "      <td>Athinai</td>\n",
       "      <td>0.035714</td>\n",
       "      <td>0.103870</td>\n",
       "      <td>1</td>\n",
       "    </tr>\n",
       "    <tr>\n",
       "      <th>7</th>\n",
       "      <td>Nakuru</td>\n",
       "      <td>0.785714</td>\n",
       "      <td>0.877800</td>\n",
       "      <td>2</td>\n",
       "    </tr>\n",
       "    <tr>\n",
       "      <th>8</th>\n",
       "      <td>Menengai</td>\n",
       "      <td>0.071429</td>\n",
       "      <td>0.409369</td>\n",
       "      <td>1</td>\n",
       "    </tr>\n",
       "    <tr>\n",
       "      <th>9</th>\n",
       "      <td>Solai</td>\n",
       "      <td>0.571429</td>\n",
       "      <td>0.531568</td>\n",
       "      <td>0</td>\n",
       "    </tr>\n",
       "    <tr>\n",
       "      <th>10</th>\n",
       "      <td>Murang'a</td>\n",
       "      <td>1.000000</td>\n",
       "      <td>0.857434</td>\n",
       "      <td>2</td>\n",
       "    </tr>\n",
       "    <tr>\n",
       "      <th>11</th>\n",
       "      <td>Esageri</td>\n",
       "      <td>0.714286</td>\n",
       "      <td>0.470468</td>\n",
       "      <td>0</td>\n",
       "    </tr>\n",
       "    <tr>\n",
       "      <th>12</th>\n",
       "      <td>Maseno</td>\n",
       "      <td>0.928571</td>\n",
       "      <td>0.857434</td>\n",
       "      <td>2</td>\n",
       "    </tr>\n",
       "    <tr>\n",
       "      <th>13</th>\n",
       "      <td>Poror</td>\n",
       "      <td>0.464286</td>\n",
       "      <td>0.511202</td>\n",
       "      <td>0</td>\n",
       "    </tr>\n",
       "    <tr>\n",
       "      <th>14</th>\n",
       "      <td>Litein</td>\n",
       "      <td>0.857143</td>\n",
       "      <td>0.613035</td>\n",
       "      <td>2</td>\n",
       "    </tr>\n",
       "    <tr>\n",
       "      <th>15</th>\n",
       "      <td>Seserina</td>\n",
       "      <td>0.535714</td>\n",
       "      <td>0.429735</td>\n",
       "      <td>0</td>\n",
       "    </tr>\n",
       "    <tr>\n",
       "      <th>16</th>\n",
       "      <td>Anesta</td>\n",
       "      <td>0.607143</td>\n",
       "      <td>0.551935</td>\n",
       "      <td>0</td>\n",
       "    </tr>\n",
       "    <tr>\n",
       "      <th>17</th>\n",
       "      <td>Goshen</td>\n",
       "      <td>0.285714</td>\n",
       "      <td>0.592668</td>\n",
       "      <td>1</td>\n",
       "    </tr>\n",
       "    <tr>\n",
       "      <th>18</th>\n",
       "      <td>Rongai</td>\n",
       "      <td>0.714286</td>\n",
       "      <td>0.918534</td>\n",
       "      <td>0</td>\n",
       "    </tr>\n",
       "    <tr>\n",
       "      <th>19</th>\n",
       "      <td>OlRongai</td>\n",
       "      <td>0.071429</td>\n",
       "      <td>0.000000</td>\n",
       "      <td>1</td>\n",
       "    </tr>\n",
       "  </tbody>\n",
       "</table>\n",
       "</div>"
      ],
      "text/plain": [
       "      School  No.Tuitors     Grade  cluter\n",
       "0   Alliance    0.964286  1.000000       2\n",
       "1      Mangu    0.892857  0.979633       2\n",
       "2   Kabsabet    0.928571  0.918534       2\n",
       "3      Kampi    0.071429  0.022403       1\n",
       "4      Mercy    0.000000  0.063136       1\n",
       "5   Kiamunyi    0.107143  0.103870       1\n",
       "6    Athinai    0.035714  0.103870       1\n",
       "7     Nakuru    0.785714  0.877800       2\n",
       "8   Menengai    0.071429  0.409369       1\n",
       "9      Solai    0.571429  0.531568       0\n",
       "10  Murang'a    1.000000  0.857434       2\n",
       "11   Esageri    0.714286  0.470468       0\n",
       "12    Maseno    0.928571  0.857434       2\n",
       "13     Poror    0.464286  0.511202       0\n",
       "14    Litein    0.857143  0.613035       2\n",
       "15  Seserina    0.535714  0.429735       0\n",
       "16    Anesta    0.607143  0.551935       0\n",
       "17    Goshen    0.285714  0.592668       1\n",
       "18    Rongai    0.714286  0.918534       0\n",
       "19  OlRongai    0.071429  0.000000       1"
      ]
     },
     "execution_count": 95,
     "metadata": {},
     "output_type": "execute_result"
    }
   ],
   "source": [
    "dat[[\"Grade\"]] = scaler.transform(dat[[\"Grade\"]])\n",
    "dat"
   ]
  },
  {
   "cell_type": "code",
   "execution_count": 96,
   "id": "8a2f3b3e",
   "metadata": {},
   "outputs": [
    {
     "data": {
      "text/plain": [
       "array([1, 1, 1, 2, 2, 2, 2, 1, 2, 0, 1, 0, 1, 0, 1, 0, 0, 0, 1, 2])"
      ]
     },
     "execution_count": 96,
     "metadata": {},
     "output_type": "execute_result"
    }
   ],
   "source": [
    "km = KMeans(n_clusters = 3)\n",
    "y_predicted = km.fit_predict(dat[[\"Grade\",\"No.Tuitors\"]])\n",
    "y_predicted"
   ]
  },
  {
   "cell_type": "code",
   "execution_count": 97,
   "id": "952724a6",
   "metadata": {},
   "outputs": [
    {
     "data": {
      "text/html": [
       "<div>\n",
       "<style scoped>\n",
       "    .dataframe tbody tr th:only-of-type {\n",
       "        vertical-align: middle;\n",
       "    }\n",
       "\n",
       "    .dataframe tbody tr th {\n",
       "        vertical-align: top;\n",
       "    }\n",
       "\n",
       "    .dataframe thead th {\n",
       "        text-align: right;\n",
       "    }\n",
       "</style>\n",
       "<table border=\"1\" class=\"dataframe\">\n",
       "  <thead>\n",
       "    <tr style=\"text-align: right;\">\n",
       "      <th></th>\n",
       "      <th>School</th>\n",
       "      <th>No.Tuitors</th>\n",
       "      <th>Grade</th>\n",
       "      <th>cluster</th>\n",
       "    </tr>\n",
       "  </thead>\n",
       "  <tbody>\n",
       "    <tr>\n",
       "      <th>0</th>\n",
       "      <td>Alliance</td>\n",
       "      <td>0.964286</td>\n",
       "      <td>1.000000</td>\n",
       "      <td>1</td>\n",
       "    </tr>\n",
       "    <tr>\n",
       "      <th>1</th>\n",
       "      <td>Mangu</td>\n",
       "      <td>0.892857</td>\n",
       "      <td>0.979633</td>\n",
       "      <td>1</td>\n",
       "    </tr>\n",
       "    <tr>\n",
       "      <th>2</th>\n",
       "      <td>Kabsabet</td>\n",
       "      <td>0.928571</td>\n",
       "      <td>0.918534</td>\n",
       "      <td>1</td>\n",
       "    </tr>\n",
       "    <tr>\n",
       "      <th>3</th>\n",
       "      <td>Kampi</td>\n",
       "      <td>0.071429</td>\n",
       "      <td>0.022403</td>\n",
       "      <td>2</td>\n",
       "    </tr>\n",
       "    <tr>\n",
       "      <th>4</th>\n",
       "      <td>Mercy</td>\n",
       "      <td>0.000000</td>\n",
       "      <td>0.063136</td>\n",
       "      <td>2</td>\n",
       "    </tr>\n",
       "    <tr>\n",
       "      <th>5</th>\n",
       "      <td>Kiamunyi</td>\n",
       "      <td>0.107143</td>\n",
       "      <td>0.103870</td>\n",
       "      <td>2</td>\n",
       "    </tr>\n",
       "    <tr>\n",
       "      <th>6</th>\n",
       "      <td>Athinai</td>\n",
       "      <td>0.035714</td>\n",
       "      <td>0.103870</td>\n",
       "      <td>2</td>\n",
       "    </tr>\n",
       "    <tr>\n",
       "      <th>7</th>\n",
       "      <td>Nakuru</td>\n",
       "      <td>0.785714</td>\n",
       "      <td>0.877800</td>\n",
       "      <td>1</td>\n",
       "    </tr>\n",
       "    <tr>\n",
       "      <th>8</th>\n",
       "      <td>Menengai</td>\n",
       "      <td>0.071429</td>\n",
       "      <td>0.409369</td>\n",
       "      <td>2</td>\n",
       "    </tr>\n",
       "    <tr>\n",
       "      <th>9</th>\n",
       "      <td>Solai</td>\n",
       "      <td>0.571429</td>\n",
       "      <td>0.531568</td>\n",
       "      <td>0</td>\n",
       "    </tr>\n",
       "    <tr>\n",
       "      <th>10</th>\n",
       "      <td>Murang'a</td>\n",
       "      <td>1.000000</td>\n",
       "      <td>0.857434</td>\n",
       "      <td>1</td>\n",
       "    </tr>\n",
       "    <tr>\n",
       "      <th>11</th>\n",
       "      <td>Esageri</td>\n",
       "      <td>0.714286</td>\n",
       "      <td>0.470468</td>\n",
       "      <td>0</td>\n",
       "    </tr>\n",
       "    <tr>\n",
       "      <th>12</th>\n",
       "      <td>Maseno</td>\n",
       "      <td>0.928571</td>\n",
       "      <td>0.857434</td>\n",
       "      <td>1</td>\n",
       "    </tr>\n",
       "    <tr>\n",
       "      <th>13</th>\n",
       "      <td>Poror</td>\n",
       "      <td>0.464286</td>\n",
       "      <td>0.511202</td>\n",
       "      <td>0</td>\n",
       "    </tr>\n",
       "    <tr>\n",
       "      <th>14</th>\n",
       "      <td>Litein</td>\n",
       "      <td>0.857143</td>\n",
       "      <td>0.613035</td>\n",
       "      <td>1</td>\n",
       "    </tr>\n",
       "    <tr>\n",
       "      <th>15</th>\n",
       "      <td>Seserina</td>\n",
       "      <td>0.535714</td>\n",
       "      <td>0.429735</td>\n",
       "      <td>0</td>\n",
       "    </tr>\n",
       "    <tr>\n",
       "      <th>16</th>\n",
       "      <td>Anesta</td>\n",
       "      <td>0.607143</td>\n",
       "      <td>0.551935</td>\n",
       "      <td>0</td>\n",
       "    </tr>\n",
       "    <tr>\n",
       "      <th>17</th>\n",
       "      <td>Goshen</td>\n",
       "      <td>0.285714</td>\n",
       "      <td>0.592668</td>\n",
       "      <td>0</td>\n",
       "    </tr>\n",
       "    <tr>\n",
       "      <th>18</th>\n",
       "      <td>Rongai</td>\n",
       "      <td>0.714286</td>\n",
       "      <td>0.918534</td>\n",
       "      <td>1</td>\n",
       "    </tr>\n",
       "    <tr>\n",
       "      <th>19</th>\n",
       "      <td>OlRongai</td>\n",
       "      <td>0.071429</td>\n",
       "      <td>0.000000</td>\n",
       "      <td>2</td>\n",
       "    </tr>\n",
       "  </tbody>\n",
       "</table>\n",
       "</div>"
      ],
      "text/plain": [
       "      School  No.Tuitors     Grade  cluster\n",
       "0   Alliance    0.964286  1.000000        1\n",
       "1      Mangu    0.892857  0.979633        1\n",
       "2   Kabsabet    0.928571  0.918534        1\n",
       "3      Kampi    0.071429  0.022403        2\n",
       "4      Mercy    0.000000  0.063136        2\n",
       "5   Kiamunyi    0.107143  0.103870        2\n",
       "6    Athinai    0.035714  0.103870        2\n",
       "7     Nakuru    0.785714  0.877800        1\n",
       "8   Menengai    0.071429  0.409369        2\n",
       "9      Solai    0.571429  0.531568        0\n",
       "10  Murang'a    1.000000  0.857434        1\n",
       "11   Esageri    0.714286  0.470468        0\n",
       "12    Maseno    0.928571  0.857434        1\n",
       "13     Poror    0.464286  0.511202        0\n",
       "14    Litein    0.857143  0.613035        1\n",
       "15  Seserina    0.535714  0.429735        0\n",
       "16    Anesta    0.607143  0.551935        0\n",
       "17    Goshen    0.285714  0.592668        0\n",
       "18    Rongai    0.714286  0.918534        1\n",
       "19  OlRongai    0.071429  0.000000        2"
      ]
     },
     "execution_count": 97,
     "metadata": {},
     "output_type": "execute_result"
    }
   ],
   "source": [
    "dat[\"cluster\"] = y_predicted\n",
    "dat.drop(\"cluter\",axis = \"columns\",inplace = True)\n",
    "dat"
   ]
  },
  {
   "cell_type": "code",
   "execution_count": 98,
   "id": "5d62aa6d",
   "metadata": {},
   "outputs": [
    {
     "data": {
      "text/plain": [
       "array([[0.51459606, 0.5297619 ],\n",
       "       [0.87780041, 0.88392857],\n",
       "       [0.11710794, 0.05952381]])"
      ]
     },
     "execution_count": 98,
     "metadata": {},
     "output_type": "execute_result"
    }
   ],
   "source": [
    "km.cluster_centers_"
   ]
  },
  {
   "cell_type": "code",
   "execution_count": 99,
   "id": "beebded0",
   "metadata": {},
   "outputs": [
    {
     "data": {
      "text/plain": [
       "<matplotlib.legend.Legend at 0x245accdc610>"
      ]
     },
     "execution_count": 99,
     "metadata": {},
     "output_type": "execute_result"
    },
    {
     "data": {
      "image/png": "[encoded data removed]",
      "text/plain": [
       "<Figure size 432x288 with 1 Axes>"
      ]
     },
     "metadata": {
      "needs_background": "light"
     },
     "output_type": "display_data"
    }
   ],
   "source": [
    "dat1 = dat[dat.cluster == 0 ]\n",
    "dat2 = dat[dat.cluster == 1 ]\n",
    "dat3 = dat[dat.cluster == 2 ]\n",
    "\n",
    "plt.scatter(dat1.Grade,dat1[\"No.Tuitors\"],color = \"blue\")\n",
    "plt.scatter(dat2.Grade,dat2[\"No.Tuitors\"],color = \"red\")\n",
    "plt.scatter(dat3.Grade,dat3[\"No.Tuitors\"],color = \"orange\")\n",
    "\n",
    "plt.scatter(km.cluster_centers_[:,0],km.cluster_centers_[:,1],color=\"purple\",marker = \"*\",label= \"centroid\")\n",
    "plt.xlabel(\"Number of Tuitors\")\n",
    "plt.ylabel(\"Grade\")\n",
    "plt.legend()"
   ]
  },
  {
   "cell_type": "code",
   "execution_count": 100,
   "id": "bd00319e",
   "metadata": {},
   "outputs": [
    {
     "name": "stderr",
     "output_type": "stream",
     "text": [
      "C:\\ProgramData\\Anaconda3\\lib\\site-packages\\sklearn\\cluster\\_kmeans.py:881: UserWarning: KMeans is known to have a memory leak on Windows with MKL, when there are less chunks than available threads. You can avoid it by setting the environment variable OMP_NUM_THREADS=1.\n",
      "  warnings.warn(\n"
     ]
    }
   ],
   "source": [
    "k_rng = range(1,10)\n",
    "sse = []\n",
    "for k in k_rng:\n",
    "    km = KMeans(n_clusters = k)\n",
    "    km.fit(dat[[\"Grade\",\"No.Tuitors\"]])\n",
    "    sse.append(km.inertia_)"
   ]
  },
  {
   "cell_type": "code",
   "execution_count": 101,
   "id": "92c8069f",
   "metadata": {},
   "outputs": [
    {
     "data": {
      "text/plain": [
       "[4.723419020178162,\n",
       " 1.285795165219119,\n",
       " 0.403447426087379,\n",
       " 0.2563240562685606,\n",
       " 0.17714305145864923,\n",
       " 0.12315564121729264,\n",
       " 0.08706969856604216,\n",
       " 0.06303048343519738,\n",
       " 0.04729303137438742]"
      ]
     },
     "execution_count": 101,
     "metadata": {},
     "output_type": "execute_result"
    }
   ],
   "source": [
    "sse"
   ]
  },
  {
   "cell_type": "code",
   "execution_count": 102,
   "id": "22e7462d",
   "metadata": {},
   "outputs": [
    {
     "data": {
      "text/plain": [
       "[<matplotlib.lines.Line2D at 0x245acaf98e0>]"
      ]
     },
     "execution_count": 102,
     "metadata": {},
     "output_type": "execute_result"
    },
    {
     "data": {
      "image/png": "[encoded data removed]",
      "text/plain": [
       "<Figure size 432x288 with 1 Axes>"
      ]
     },
     "metadata": {
      "needs_background": "light"
     },
     "output_type": "display_data"
    }
   ],
   "source": [
    "plt.xlabel\n",
    "plt.ylabel\n",
    "plt.plot(k_rng,sse)"
   ]
  },
  {
   "cell_type": "code",
   "execution_count": null,
   "id": "bd473cde",
   "metadata": {},
   "outputs": [],
   "source": []
  }
 ],
 "metadata": {
  "kernelspec": {
   "display_name": "Python 3 (ipykernel)",
   "language": "python",
   "name": "python3"
  },
  "language_info": {
   "codemirror_mode": {
    "name": "ipython",
    "version": 3
   },
   "file_extension": ".py",
   "mimetype": "text/x-python",
   "name": "python",
   "nbconvert_exporter": "python",
   "pygments_lexer": "ipython3",
   "version": "3.9.7"
  }
 },
 "nbformat": 4,
 "nbformat_minor": 5
}
