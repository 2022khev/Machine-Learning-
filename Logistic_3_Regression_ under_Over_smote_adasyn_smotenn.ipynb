{
 "cells": [
  {
   "cell_type": "code",
   "execution_count": 1,
   "id": "0c502fb5",
   "metadata": {},
   "outputs": [],
   "source": [
    "import pandas as pd \n",
    "import numpy as np\n",
    "import seaborn as sns\n",
    "import matplotlib.pyplot as plt\n",
    "\n",
    "import imblearn\n",
    "from sklearn.model_selection import train_test_split\n",
    "from sklearn.impute import SimpleImputer\n",
    "from sklearn.preprocessing import StandardScaler,OrdinalEncoder\n",
    "\n",
    "from sklearn.linear_model import LogisticRegression\n",
    "from sklearn.metrics import (classification_report,accuracy_score,precision_score,\n",
    "                             confusion_matrix,ConfusionMatrixDisplay,roc_auc_score,roc_curve)\n",
    "\n",
    "import warnings\n",
    "warnings.simplefilter(\"ignore\")"
   ]
  },
  {
   "cell_type": "code",
   "execution_count": 2,
   "id": "d46fa905",
   "metadata": {},
   "outputs": [],
   "source": [
    "def wrangle(filepath):\n",
    "    df=pd.read_csv(filepath)\n",
    "   \n",
    "    return df"
   ]
  },
  {
   "cell_type": "code",
   "execution_count": 3,
   "id": "e8d2e93c",
   "metadata": {},
   "outputs": [
    {
     "data": {
      "text/html": [
       "<div>\n",
       "<style scoped>\n",
       "    .dataframe tbody tr th:only-of-type {\n",
       "        vertical-align: middle;\n",
       "    }\n",
       "\n",
       "    .dataframe tbody tr th {\n",
       "        vertical-align: top;\n",
       "    }\n",
       "\n",
       "    .dataframe thead th {\n",
       "        text-align: right;\n",
       "    }\n",
       "</style>\n",
       "<table border=\"1\" class=\"dataframe\">\n",
       "  <thead>\n",
       "    <tr style=\"text-align: right;\">\n",
       "      <th></th>\n",
       "      <th>person_age</th>\n",
       "      <th>person_income</th>\n",
       "      <th>person_home_ownership</th>\n",
       "      <th>person_emp_length</th>\n",
       "      <th>loan_intent</th>\n",
       "      <th>loan_grade</th>\n",
       "      <th>loan_amnt</th>\n",
       "      <th>loan_int_rate</th>\n",
       "      <th>loan_status</th>\n",
       "      <th>loan_percent_income</th>\n",
       "      <th>cb_person_default_on_file</th>\n",
       "      <th>cb_person_cred_hist_length</th>\n",
       "    </tr>\n",
       "  </thead>\n",
       "  <tbody>\n",
       "    <tr>\n",
       "      <th>0</th>\n",
       "      <td>22</td>\n",
       "      <td>59000</td>\n",
       "      <td>RENT</td>\n",
       "      <td>123.0</td>\n",
       "      <td>PERSONAL</td>\n",
       "      <td>D</td>\n",
       "      <td>35000</td>\n",
       "      <td>16.02</td>\n",
       "      <td>1</td>\n",
       "      <td>0.59</td>\n",
       "      <td>Y</td>\n",
       "      <td>3</td>\n",
       "    </tr>\n",
       "    <tr>\n",
       "      <th>1</th>\n",
       "      <td>21</td>\n",
       "      <td>9600</td>\n",
       "      <td>OWN</td>\n",
       "      <td>5.0</td>\n",
       "      <td>EDUCATION</td>\n",
       "      <td>B</td>\n",
       "      <td>1000</td>\n",
       "      <td>11.14</td>\n",
       "      <td>0</td>\n",
       "      <td>0.10</td>\n",
       "      <td>N</td>\n",
       "      <td>2</td>\n",
       "    </tr>\n",
       "    <tr>\n",
       "      <th>2</th>\n",
       "      <td>23</td>\n",
       "      <td>65500</td>\n",
       "      <td>RENT</td>\n",
       "      <td>4.0</td>\n",
       "      <td>MEDICAL</td>\n",
       "      <td>C</td>\n",
       "      <td>35000</td>\n",
       "      <td>15.23</td>\n",
       "      <td>1</td>\n",
       "      <td>0.53</td>\n",
       "      <td>N</td>\n",
       "      <td>2</td>\n",
       "    </tr>\n",
       "    <tr>\n",
       "      <th>3</th>\n",
       "      <td>21</td>\n",
       "      <td>9900</td>\n",
       "      <td>OWN</td>\n",
       "      <td>2.0</td>\n",
       "      <td>VENTURE</td>\n",
       "      <td>A</td>\n",
       "      <td>2500</td>\n",
       "      <td>7.14</td>\n",
       "      <td>1</td>\n",
       "      <td>0.25</td>\n",
       "      <td>N</td>\n",
       "      <td>2</td>\n",
       "    </tr>\n",
       "    <tr>\n",
       "      <th>4</th>\n",
       "      <td>26</td>\n",
       "      <td>77100</td>\n",
       "      <td>RENT</td>\n",
       "      <td>8.0</td>\n",
       "      <td>EDUCATION</td>\n",
       "      <td>B</td>\n",
       "      <td>35000</td>\n",
       "      <td>12.42</td>\n",
       "      <td>1</td>\n",
       "      <td>0.45</td>\n",
       "      <td>N</td>\n",
       "      <td>3</td>\n",
       "    </tr>\n",
       "  </tbody>\n",
       "</table>\n",
       "</div>"
      ],
      "text/plain": [
       "   person_age  person_income person_home_ownership  person_emp_length  \\\n",
       "0          22          59000                  RENT              123.0   \n",
       "1          21           9600                   OWN                5.0   \n",
       "2          23          65500                  RENT                4.0   \n",
       "3          21           9900                   OWN                2.0   \n",
       "4          26          77100                  RENT                8.0   \n",
       "\n",
       "  loan_intent loan_grade  loan_amnt  loan_int_rate  loan_status  \\\n",
       "0    PERSONAL          D      35000          16.02            1   \n",
       "1   EDUCATION          B       1000          11.14            0   \n",
       "2     MEDICAL          C      35000          15.23            1   \n",
       "3     VENTURE          A       2500           7.14            1   \n",
       "4   EDUCATION          B      35000          12.42            1   \n",
       "\n",
       "   loan_percent_income cb_person_default_on_file  cb_person_cred_hist_length  \n",
       "0                 0.59                         Y                           3  \n",
       "1                 0.10                         N                           2  \n",
       "2                 0.53                         N                           2  \n",
       "3                 0.25                         N                           2  \n",
       "4                 0.45                         N                           3  "
      ]
     },
     "execution_count": 3,
     "metadata": {},
     "output_type": "execute_result"
    }
   ],
   "source": [
    "df = wrangle(r'C:\\Users\\kelvin\\OneDrive\\Desktop\\file1\\credit_risk_dataset_training.csv')\n",
    "df.head()"
   ]
  },
  {
   "cell_type": "code",
   "execution_count": 4,
   "id": "08d94d02",
   "metadata": {},
   "outputs": [
    {
     "name": "stdout",
     "output_type": "stream",
     "text": [
      "person_home_ownership\n",
      "loan_intent\n",
      "loan_grade\n",
      "loan_amnt\n",
      "loan_status\n",
      "loan_percent_income\n",
      "cb_person_default_on_file\n"
     ]
    }
   ],
   "source": [
    "listl = []\n",
    "j=df[[\"cb_person_cred_hist_length\",\"loan_int_rate\",\"person_emp_length\",\"person_age\",\"person_income\"]]\n",
    "for k in df.columns:\n",
    "    if k not in j.columns:\n",
    "        print(k)\n",
    "        listl.append(k)\n"
   ]
  },
  {
   "cell_type": "code",
   "execution_count": 5,
   "id": "788add40",
   "metadata": {},
   "outputs": [],
   "source": [
    "df=df[listl]"
   ]
  },
  {
   "cell_type": "code",
   "execution_count": 6,
   "id": "9d0e92f6",
   "metadata": {},
   "outputs": [
    {
     "data": {
      "text/plain": [
       "0    77.969365\n",
       "1    22.030635\n",
       "Name: loan_status, dtype: float64"
      ]
     },
     "execution_count": 6,
     "metadata": {},
     "output_type": "execute_result"
    }
   ],
   "source": [
    "df[\"loan_status\"].value_counts(normalize=True)*100"
   ]
  },
  {
   "cell_type": "code",
   "execution_count": 7,
   "id": "ebd1da92",
   "metadata": {},
   "outputs": [
    {
     "data": {
      "text/plain": [
       "person_home_ownership        0\n",
       "loan_intent                  0\n",
       "loan_grade                   0\n",
       "loan_amnt                    0\n",
       "loan_status                  0\n",
       "loan_percent_income          0\n",
       "cb_person_default_on_file    0\n",
       "dtype: int64"
      ]
     },
     "execution_count": 7,
     "metadata": {},
     "output_type": "execute_result"
    }
   ],
   "source": [
    "df.isna().sum()"
   ]
  },
  {
   "cell_type": "code",
   "execution_count": 8,
   "id": "f1b963b6",
   "metadata": {},
   "outputs": [
    {
     "data": {
      "text/html": [
       "<div>\n",
       "<style scoped>\n",
       "    .dataframe tbody tr th:only-of-type {\n",
       "        vertical-align: middle;\n",
       "    }\n",
       "\n",
       "    .dataframe tbody tr th {\n",
       "        vertical-align: top;\n",
       "    }\n",
       "\n",
       "    .dataframe thead th {\n",
       "        text-align: right;\n",
       "    }\n",
       "</style>\n",
       "<table border=\"1\" class=\"dataframe\">\n",
       "  <thead>\n",
       "    <tr style=\"text-align: right;\">\n",
       "      <th></th>\n",
       "      <th>person_home_ownership</th>\n",
       "      <th>loan_intent</th>\n",
       "      <th>loan_grade</th>\n",
       "      <th>loan_amnt</th>\n",
       "      <th>loan_status</th>\n",
       "      <th>loan_percent_income</th>\n",
       "      <th>cb_person_default_on_file</th>\n",
       "    </tr>\n",
       "  </thead>\n",
       "  <tbody>\n",
       "    <tr>\n",
       "      <th>0</th>\n",
       "      <td>3.0</td>\n",
       "      <td>4.0</td>\n",
       "      <td>3.0</td>\n",
       "      <td>694.0</td>\n",
       "      <td>1.0</td>\n",
       "      <td>59.0</td>\n",
       "      <td>1.0</td>\n",
       "    </tr>\n",
       "    <tr>\n",
       "      <th>1</th>\n",
       "      <td>2.0</td>\n",
       "      <td>1.0</td>\n",
       "      <td>1.0</td>\n",
       "      <td>5.0</td>\n",
       "      <td>0.0</td>\n",
       "      <td>10.0</td>\n",
       "      <td>0.0</td>\n",
       "    </tr>\n",
       "    <tr>\n",
       "      <th>2</th>\n",
       "      <td>3.0</td>\n",
       "      <td>3.0</td>\n",
       "      <td>2.0</td>\n",
       "      <td>694.0</td>\n",
       "      <td>1.0</td>\n",
       "      <td>53.0</td>\n",
       "      <td>0.0</td>\n",
       "    </tr>\n",
       "    <tr>\n",
       "      <th>3</th>\n",
       "      <td>2.0</td>\n",
       "      <td>5.0</td>\n",
       "      <td>0.0</td>\n",
       "      <td>55.0</td>\n",
       "      <td>1.0</td>\n",
       "      <td>25.0</td>\n",
       "      <td>0.0</td>\n",
       "    </tr>\n",
       "    <tr>\n",
       "      <th>4</th>\n",
       "      <td>3.0</td>\n",
       "      <td>1.0</td>\n",
       "      <td>1.0</td>\n",
       "      <td>694.0</td>\n",
       "      <td>1.0</td>\n",
       "      <td>45.0</td>\n",
       "      <td>0.0</td>\n",
       "    </tr>\n",
       "    <tr>\n",
       "      <th>...</th>\n",
       "      <td>...</td>\n",
       "      <td>...</td>\n",
       "      <td>...</td>\n",
       "      <td>...</td>\n",
       "      <td>...</td>\n",
       "      <td>...</td>\n",
       "      <td>...</td>\n",
       "    </tr>\n",
       "    <tr>\n",
       "      <th>22845</th>\n",
       "      <td>3.0</td>\n",
       "      <td>4.0</td>\n",
       "      <td>3.0</td>\n",
       "      <td>594.0</td>\n",
       "      <td>1.0</td>\n",
       "      <td>31.0</td>\n",
       "      <td>1.0</td>\n",
       "    </tr>\n",
       "    <tr>\n",
       "      <th>22846</th>\n",
       "      <td>0.0</td>\n",
       "      <td>4.0</td>\n",
       "      <td>2.0</td>\n",
       "      <td>179.0</td>\n",
       "      <td>0.0</td>\n",
       "      <td>11.0</td>\n",
       "      <td>0.0</td>\n",
       "    </tr>\n",
       "    <tr>\n",
       "      <th>22847</th>\n",
       "      <td>0.0</td>\n",
       "      <td>4.0</td>\n",
       "      <td>0.0</td>\n",
       "      <td>545.0</td>\n",
       "      <td>0.0</td>\n",
       "      <td>15.0</td>\n",
       "      <td>0.0</td>\n",
       "    </tr>\n",
       "    <tr>\n",
       "      <th>22848</th>\n",
       "      <td>0.0</td>\n",
       "      <td>4.0</td>\n",
       "      <td>1.0</td>\n",
       "      <td>488.0</td>\n",
       "      <td>0.0</td>\n",
       "      <td>10.0</td>\n",
       "      <td>0.0</td>\n",
       "    </tr>\n",
       "    <tr>\n",
       "      <th>22849</th>\n",
       "      <td>3.0</td>\n",
       "      <td>3.0</td>\n",
       "      <td>1.0</td>\n",
       "      <td>204.0</td>\n",
       "      <td>0.0</td>\n",
       "      <td>15.0</td>\n",
       "      <td>0.0</td>\n",
       "    </tr>\n",
       "  </tbody>\n",
       "</table>\n",
       "<p>22850 rows × 7 columns</p>\n",
       "</div>"
      ],
      "text/plain": [
       "       person_home_ownership  loan_intent  loan_grade  loan_amnt  loan_status  \\\n",
       "0                        3.0          4.0         3.0      694.0          1.0   \n",
       "1                        2.0          1.0         1.0        5.0          0.0   \n",
       "2                        3.0          3.0         2.0      694.0          1.0   \n",
       "3                        2.0          5.0         0.0       55.0          1.0   \n",
       "4                        3.0          1.0         1.0      694.0          1.0   \n",
       "...                      ...          ...         ...        ...          ...   \n",
       "22845                    3.0          4.0         3.0      594.0          1.0   \n",
       "22846                    0.0          4.0         2.0      179.0          0.0   \n",
       "22847                    0.0          4.0         0.0      545.0          0.0   \n",
       "22848                    0.0          4.0         1.0      488.0          0.0   \n",
       "22849                    3.0          3.0         1.0      204.0          0.0   \n",
       "\n",
       "       loan_percent_income  cb_person_default_on_file  \n",
       "0                     59.0                        1.0  \n",
       "1                     10.0                        0.0  \n",
       "2                     53.0                        0.0  \n",
       "3                     25.0                        0.0  \n",
       "4                     45.0                        0.0  \n",
       "...                    ...                        ...  \n",
       "22845                 31.0                        1.0  \n",
       "22846                 11.0                        0.0  \n",
       "22847                 15.0                        0.0  \n",
       "22848                 10.0                        0.0  \n",
       "22849                 15.0                        0.0  \n",
       "\n",
       "[22850 rows x 7 columns]"
      ]
     },
     "execution_count": 8,
     "metadata": {},
     "output_type": "execute_result"
    }
   ],
   "source": [
    "orde =OrdinalEncoder()\n",
    "trans_one =orde.fit_transform(df)\n",
    "df=pd.DataFrame(trans_one,columns=df.columns)\n",
    "df"
   ]
  },
  {
   "cell_type": "code",
   "execution_count": 9,
   "id": "a67b62bc",
   "metadata": {},
   "outputs": [],
   "source": [
    "s_impute=SimpleImputer(verbose=0,strategy=\"mean\",missing_values=np.nan)\n",
    "df1= s_impute.fit_transform(df)"
   ]
  },
  {
   "cell_type": "code",
   "execution_count": 10,
   "id": "2dd0ad35",
   "metadata": {},
   "outputs": [
    {
     "data": {
      "text/plain": [
       "person_home_ownership        0\n",
       "loan_intent                  0\n",
       "loan_grade                   0\n",
       "loan_amnt                    0\n",
       "loan_status                  0\n",
       "loan_percent_income          0\n",
       "cb_person_default_on_file    0\n",
       "dtype: int64"
      ]
     },
     "execution_count": 10,
     "metadata": {},
     "output_type": "execute_result"
    }
   ],
   "source": [
    "df=pd.DataFrame(df1,columns=df.columns)\n",
    "df.isna().sum()"
   ]
  },
  {
   "cell_type": "code",
   "execution_count": 11,
   "id": "510fc994",
   "metadata": {},
   "outputs": [],
   "source": [
    "y = df[\"loan_status\"]\n",
    "X=df[[i for i in df.columns if \"loan_status\" not in  i]]"
   ]
  },
  {
   "cell_type": "code",
   "execution_count": 12,
   "id": "54b517a0",
   "metadata": {},
   "outputs": [
    {
     "data": {
      "text/plain": [
       "array([[ 0.92499424,  0.85196879,  1.52901403,  2.23240918,  3.94017427,\n",
       "         2.15581844],\n",
       "       [ 0.22681043, -0.88124764, -0.1880927 , -1.5968929 , -0.65931249,\n",
       "        -0.46386096],\n",
       "       [ 0.92499424,  0.27422998,  0.67046067,  2.23240918,  3.37697181,\n",
       "        -0.46386096],\n",
       "       ...,\n",
       "       [-1.16955718,  0.85196879, -1.04664606,  1.40430177, -0.1899771 ,\n",
       "        -0.46386096],\n",
       "       [-1.16955718,  0.85196879, -0.1880927 ,  1.087509  , -0.65931249,\n",
       "        -0.46386096],\n",
       "       [ 0.92499424,  0.27422998, -0.1880927 , -0.49089709, -0.1899771 ,\n",
       "        -0.46386096]])"
      ]
     },
     "execution_count": 12,
     "metadata": {},
     "output_type": "execute_result"
    }
   ],
   "source": [
    "scaler=StandardScaler()\n",
    "scaler_x=scaler.fit_transform(X)\n",
    "scaler_x"
   ]
  },
  {
   "cell_type": "code",
   "execution_count": 13,
   "id": "76055af5",
   "metadata": {},
   "outputs": [],
   "source": [
    "from imblearn.over_sampling import SMOTE\n",
    "from imblearn.over_sampling import RandomOverSampler"
   ]
  },
  {
   "cell_type": "code",
   "execution_count": 14,
   "id": "85011e66",
   "metadata": {},
   "outputs": [],
   "source": [
    "X_train,X_test,y_train,y_test=train_test_split(scaler_x,y,test_size=0.3,random_state=42)"
   ]
  },
  {
   "cell_type": "code",
   "execution_count": 15,
   "id": "5a236a2c",
   "metadata": {},
   "outputs": [
    {
     "data": {
      "text/plain": [
       "LogisticRegression()"
      ]
     },
     "execution_count": 15,
     "metadata": {},
     "output_type": "execute_result"
    }
   ],
   "source": [
    "model=LogisticRegression()\n",
    "model.fit(X_train,y_train)"
   ]
  },
  {
   "cell_type": "code",
   "execution_count": 16,
   "id": "883d33d0",
   "metadata": {},
   "outputs": [
    {
     "name": "stdout",
     "output_type": "stream",
     "text": [
      "              precision    recall  f1-score   support\n",
      "\n",
      "         0.0       0.86      0.95      0.90      5315\n",
      "         1.0       0.73      0.46      0.56      1540\n",
      "\n",
      "    accuracy                           0.84      6855\n",
      "   macro avg       0.79      0.70      0.73      6855\n",
      "weighted avg       0.83      0.84      0.83      6855\n",
      "\n",
      "\n",
      " Accuracy Score: 0.8401167031363967\n"
     ]
    }
   ],
   "source": [
    "y_preds= model.predict(X_test)\n",
    "print(classification_report(y_test,y_preds))\n",
    "print(\"\\n Accuracy Score:\",\n",
    "      accuracy_score(y_test,y_preds))"
   ]
  },
  {
   "cell_type": "markdown",
   "id": "94a7f436",
   "metadata": {},
   "source": [
    "### SMOTE "
   ]
  },
  {
   "cell_type": "code",
   "execution_count": 17,
   "id": "8a4ec2df",
   "metadata": {},
   "outputs": [],
   "source": [
    "oversample = SMOTE(random_state=12)\n",
    "X_train_s, y_train_s = oversample.fit_resample(X_train, y_train)"
   ]
  },
  {
   "cell_type": "code",
   "execution_count": 18,
   "id": "4adb2738",
   "metadata": {},
   "outputs": [
    {
     "data": {
      "text/plain": [
       "LogisticRegression()"
      ]
     },
     "execution_count": 18,
     "metadata": {},
     "output_type": "execute_result"
    }
   ],
   "source": [
    "model= LogisticRegression()\n",
    "model.fit(X_train_s,y_train_s)"
   ]
  },
  {
   "cell_type": "code",
   "execution_count": 19,
   "id": "4cdbe6a7",
   "metadata": {},
   "outputs": [],
   "source": [
    "y_pre=model.predict(X_test)\n",
    "y_pre\n",
    "y_test=y_test.astype(int)"
   ]
  },
  {
   "cell_type": "code",
   "execution_count": 20,
   "id": "5b12f33c",
   "metadata": {},
   "outputs": [
    {
     "name": "stdout",
     "output_type": "stream",
     "text": [
      "\n",
      " Score: 0.8529955651122162\n"
     ]
    },
    {
     "data": {
      "image/png": "[encoded data removed]",
      "text/plain": [
       "<Figure size 432x288 with 1 Axes>"
      ]
     },
     "metadata": {
      "needs_background": "light"
     },
     "output_type": "display_data"
    }
   ],
   "source": [
    "from sklearn import metrics\n",
    "y_pred = model.predict_proba(X_test)[:,1]\n",
    "y_pred = model.predict_proba(X_test)[::,1]\n",
    "fpr, tpr,_= metrics.roc_curve(y_test,  y_pred)\n",
    "score=roc_auc_score(y_test,y_pred)\n",
    "print(\"\\n Score:\",score)\n",
    "\n",
    "#create ROC curve\n",
    "plt.plot(fpr,tpr)\n",
    "plt.ylabel('True Positive Rate')\n",
    "plt.xlabel('False Positive Rate')\n",
    "plt.show()"
   ]
  },
  {
   "cell_type": "code",
   "execution_count": 21,
   "id": "86d025ab",
   "metadata": {},
   "outputs": [
    {
     "name": "stdout",
     "output_type": "stream",
     "text": [
      "              precision    recall  f1-score   support\n",
      "\n",
      "         0.0       0.79      0.92      0.85      4539\n",
      "         1.0       0.78      0.52      0.62      2316\n",
      "\n",
      "    accuracy                           0.79      6855\n",
      "   macro avg       0.78      0.72      0.74      6855\n",
      "weighted avg       0.79      0.79      0.77      6855\n",
      "\n"
     ]
    }
   ],
   "source": [
    "print(classification_report(y_pre,y_test))"
   ]
  },
  {
   "cell_type": "markdown",
   "id": "44b7fb8a",
   "metadata": {},
   "source": [
    "## Resample - Upscaling"
   ]
  },
  {
   "cell_type": "code",
   "execution_count": 22,
   "id": "070d8406",
   "metadata": {},
   "outputs": [],
   "source": [
    "from sklearn.utils import resample,shuffle"
   ]
  },
  {
   "cell_type": "code",
   "execution_count": 23,
   "id": "31c1da76",
   "metadata": {},
   "outputs": [
    {
     "data": {
      "text/plain": [
       "17816"
      ]
     },
     "execution_count": 23,
     "metadata": {},
     "output_type": "execute_result"
    }
   ],
   "source": [
    "len(df[df[\"loan_status\"]==0.0])"
   ]
  },
  {
   "cell_type": "code",
   "execution_count": 24,
   "id": "9a3cf7e5",
   "metadata": {},
   "outputs": [
    {
     "name": "stdout",
     "output_type": "stream",
     "text": [
      "(5034, 7)\n",
      "(17816, 7)\n"
     ]
    }
   ],
   "source": [
    "df_majority= df[df.loan_status==0.0]\n",
    "df_minority = df[df.loan_status!=0.0]\n",
    "print(df_minority.shape)\n",
    "print(df_majority.shape)"
   ]
  },
  {
   "cell_type": "code",
   "execution_count": 25,
   "id": "64feafa7",
   "metadata": {},
   "outputs": [],
   "source": [
    "df_minority_upsampled = resample(df_minority,\n",
    "                                 replace=True,\n",
    "                                 n_samples=17816,\n",
    "                                 random_state=42\n",
    "                                )"
   ]
  },
  {
   "cell_type": "code",
   "execution_count": 26,
   "id": "2ff7319c",
   "metadata": {},
   "outputs": [
    {
     "data": {
      "text/plain": [
       "((17816, 7), (5034, 7))"
      ]
     },
     "execution_count": 26,
     "metadata": {},
     "output_type": "execute_result"
    }
   ],
   "source": [
    "df_majority.shape,df_minority.shape"
   ]
  },
  {
   "cell_type": "code",
   "execution_count": 27,
   "id": "ab2ddb6e",
   "metadata": {},
   "outputs": [
    {
     "data": {
      "text/plain": [
       "1.0    17816\n",
       "Name: loan_status, dtype: int64"
      ]
     },
     "execution_count": 27,
     "metadata": {},
     "output_type": "execute_result"
    }
   ],
   "source": [
    "df_minority_upsampled[\"loan_status\"].value_counts()"
   ]
  },
  {
   "cell_type": "code",
   "execution_count": 28,
   "id": "e6a0a6ca",
   "metadata": {},
   "outputs": [
    {
     "data": {
      "text/html": [
       "<div>\n",
       "<style scoped>\n",
       "    .dataframe tbody tr th:only-of-type {\n",
       "        vertical-align: middle;\n",
       "    }\n",
       "\n",
       "    .dataframe tbody tr th {\n",
       "        vertical-align: top;\n",
       "    }\n",
       "\n",
       "    .dataframe thead th {\n",
       "        text-align: right;\n",
       "    }\n",
       "</style>\n",
       "<table border=\"1\" class=\"dataframe\">\n",
       "  <thead>\n",
       "    <tr style=\"text-align: right;\">\n",
       "      <th></th>\n",
       "      <th>person_home_ownership</th>\n",
       "      <th>loan_intent</th>\n",
       "      <th>loan_grade</th>\n",
       "      <th>loan_amnt</th>\n",
       "      <th>loan_status</th>\n",
       "      <th>loan_percent_income</th>\n",
       "      <th>cb_person_default_on_file</th>\n",
       "    </tr>\n",
       "  </thead>\n",
       "  <tbody>\n",
       "    <tr>\n",
       "      <th>1</th>\n",
       "      <td>2.0</td>\n",
       "      <td>1.0</td>\n",
       "      <td>1.0</td>\n",
       "      <td>5.0</td>\n",
       "      <td>0.0</td>\n",
       "      <td>10.0</td>\n",
       "      <td>0.0</td>\n",
       "    </tr>\n",
       "    <tr>\n",
       "      <th>10</th>\n",
       "      <td>3.0</td>\n",
       "      <td>1.0</td>\n",
       "      <td>0.0</td>\n",
       "      <td>694.0</td>\n",
       "      <td>0.0</td>\n",
       "      <td>30.0</td>\n",
       "      <td>0.0</td>\n",
       "    </tr>\n",
       "    <tr>\n",
       "      <th>11</th>\n",
       "      <td>0.0</td>\n",
       "      <td>0.0</td>\n",
       "      <td>1.0</td>\n",
       "      <td>680.0</td>\n",
       "      <td>0.0</td>\n",
       "      <td>6.0</td>\n",
       "      <td>0.0</td>\n",
       "    </tr>\n",
       "    <tr>\n",
       "      <th>12</th>\n",
       "      <td>3.0</td>\n",
       "      <td>1.0</td>\n",
       "      <td>0.0</td>\n",
       "      <td>694.0</td>\n",
       "      <td>0.0</td>\n",
       "      <td>29.0</td>\n",
       "      <td>0.0</td>\n",
       "    </tr>\n",
       "    <tr>\n",
       "      <th>15</th>\n",
       "      <td>3.0</td>\n",
       "      <td>5.0</td>\n",
       "      <td>0.0</td>\n",
       "      <td>694.0</td>\n",
       "      <td>0.0</td>\n",
       "      <td>22.0</td>\n",
       "      <td>0.0</td>\n",
       "    </tr>\n",
       "  </tbody>\n",
       "</table>\n",
       "</div>"
      ],
      "text/plain": [
       "    person_home_ownership  loan_intent  loan_grade  loan_amnt  loan_status  \\\n",
       "1                     2.0          1.0         1.0        5.0          0.0   \n",
       "10                    3.0          1.0         0.0      694.0          0.0   \n",
       "11                    0.0          0.0         1.0      680.0          0.0   \n",
       "12                    3.0          1.0         0.0      694.0          0.0   \n",
       "15                    3.0          5.0         0.0      694.0          0.0   \n",
       "\n",
       "    loan_percent_income  cb_person_default_on_file  \n",
       "1                  10.0                        0.0  \n",
       "10                 30.0                        0.0  \n",
       "11                  6.0                        0.0  \n",
       "12                 29.0                        0.0  \n",
       "15                 22.0                        0.0  "
      ]
     },
     "execution_count": 28,
     "metadata": {},
     "output_type": "execute_result"
    }
   ],
   "source": [
    "df_upsampled = pd.concat([df_majority,df_minority_upsampled])\n",
    "df_upsampled.head()"
   ]
  },
  {
   "cell_type": "code",
   "execution_count": 29,
   "id": "14f48026",
   "metadata": {},
   "outputs": [],
   "source": [
    "X_u=df_upsampled[[i for i in df_upsampled.columns if \"loan_status\" not in  i]]\n",
    "y=df_upsampled[[i for i in df_upsampled.columns if \"loan_status\" in  i]]"
   ]
  },
  {
   "cell_type": "code",
   "execution_count": 30,
   "id": "416db5fb",
   "metadata": {},
   "outputs": [
    {
     "data": {
      "text/plain": [
       "array([[ 0.08970344, -0.84677932, -0.39646701, -1.60036208, -0.79704458,\n",
       "        -0.53490339],\n",
       "       [ 0.80015309, -0.84677932, -1.17020522,  2.10391905,  0.85024206,\n",
       "        -0.53490339],\n",
       "       [-1.33119586, -1.4303178 , -0.39646701,  2.02865064, -1.12650191,\n",
       "        -0.53490339],\n",
       "       ...,\n",
       "       [-1.33119586,  0.32029764, -1.17020522,  1.35661125,  0.35605607,\n",
       "        -0.53490339],\n",
       "       [ 0.80015309,  0.32029764, -0.39646701, -0.8261727 ,  0.52078473,\n",
       "        -0.53490339],\n",
       "       [ 0.80015309, -1.4303178 ,  1.15100943, -0.37456223,  0.27369174,\n",
       "        -0.53490339]])"
      ]
     },
     "execution_count": 30,
     "metadata": {},
     "output_type": "execute_result"
    }
   ],
   "source": [
    "scaler=StandardScaler()\n",
    "scaler_u=scaler.fit_transform(X_u)\n",
    "scaler_u"
   ]
  },
  {
   "cell_type": "code",
   "execution_count": 31,
   "id": "3463c99a",
   "metadata": {},
   "outputs": [],
   "source": [
    "X_train_u,X_test_u,y_train_u,y_test_u=train_test_split(scaler_u,y,test_size=0.3,random_state=42)"
   ]
  },
  {
   "cell_type": "code",
   "execution_count": 32,
   "id": "c674eeb6",
   "metadata": {},
   "outputs": [
    {
     "data": {
      "text/plain": [
       "LogisticRegression()"
      ]
     },
     "execution_count": 32,
     "metadata": {},
     "output_type": "execute_result"
    }
   ],
   "source": [
    "model= LogisticRegression()\n",
    "model.fit(X_train_u,y_train_u)"
   ]
  },
  {
   "cell_type": "code",
   "execution_count": 33,
   "id": "bab0bfe6",
   "metadata": {},
   "outputs": [],
   "source": [
    "y_pre=model.predict(X_test)\n",
    "y_pre\n",
    "y_test=y_test.astype(int)"
   ]
  },
  {
   "cell_type": "code",
   "execution_count": 34,
   "id": "089868fe",
   "metadata": {},
   "outputs": [
    {
     "data": {
      "image/png": "[encoded data removed]",
      "text/plain": [
       "<Figure size 432x288 with 1 Axes>"
      ]
     },
     "metadata": {
      "needs_background": "light"
     },
     "output_type": "display_data"
    }
   ],
   "source": [
    "from sklearn import metrics\n",
    "y_pred = model.predict_proba(X_test)[:,1]\n",
    "y_pred = model.predict_proba(X_test)[::,1]\n",
    "fpr, tpr,_= metrics.roc_curve(y_test,  y_pred)\n",
    "score=roc_auc_score(y_test,y_pred)\n",
    "# print(\"accuracy_score:\",accuracy_score(y_pred,y_test))\n",
    "\n",
    "#create ROC curve\n",
    "plt.plot(fpr,tpr)\n",
    "plt.ylabel('True Positive Rate')\n",
    "plt.xlabel('False Positive Rate')\n",
    "plt.show()"
   ]
  },
  {
   "cell_type": "code",
   "execution_count": 35,
   "id": "bb40100c",
   "metadata": {},
   "outputs": [
    {
     "data": {
      "text/plain": [
       "0.0    53.975201\n",
       "1.0    46.024799\n",
       "Name: Predictions, dtype: float64"
      ]
     },
     "execution_count": 35,
     "metadata": {},
     "output_type": "execute_result"
    }
   ],
   "source": [
    "predictions = pd.DataFrame(model.predict(X_test),columns=[\"Predictions\"])\n",
    "predictions[\"Predictions\"].value_counts(normalize=True)*100"
   ]
  },
  {
   "cell_type": "code",
   "execution_count": 36,
   "id": "61791a94",
   "metadata": {},
   "outputs": [
    {
     "name": "stdout",
     "output_type": "stream",
     "text": [
      "              precision    recall  f1-score   support\n",
      "\n",
      "         0.0       0.66      0.94      0.78      3700\n",
      "         1.0       0.87      0.42      0.57      3155\n",
      "\n",
      "    accuracy                           0.70      6855\n",
      "   macro avg       0.76      0.68      0.67      6855\n",
      "weighted avg       0.75      0.70      0.68      6855\n",
      "\n"
     ]
    }
   ],
   "source": [
    "print(classification_report(y_pre,y_test))"
   ]
  },
  {
   "cell_type": "markdown",
   "id": "16e25113",
   "metadata": {},
   "source": [
    "## Resample - Downscaling"
   ]
  },
  {
   "cell_type": "code",
   "execution_count": 37,
   "id": "a2a7de8b",
   "metadata": {},
   "outputs": [
    {
     "name": "stdout",
     "output_type": "stream",
     "text": [
      "(5034, 7)\n",
      "(17816, 7)\n"
     ]
    }
   ],
   "source": [
    "df_majority= df[df.loan_status==0.0]\n",
    "df_minority = df[df.loan_status!=0.0]\n",
    "print(df_minority.shape)\n",
    "print(df_majority.shape)"
   ]
  },
  {
   "cell_type": "code",
   "execution_count": 38,
   "id": "b98c0d24",
   "metadata": {},
   "outputs": [],
   "source": [
    "df_majority_downsampled = resample(df_majority,\n",
    "                                 replace=True,\n",
    "                                 n_samples=5034,\n",
    "                                 random_state=42\n",
    "                                )"
   ]
  },
  {
   "cell_type": "code",
   "execution_count": 39,
   "id": "dcabc989",
   "metadata": {},
   "outputs": [
    {
     "data": {
      "text/plain": [
       "0.0    5034\n",
       "Name: loan_status, dtype: int64"
      ]
     },
     "execution_count": 39,
     "metadata": {},
     "output_type": "execute_result"
    }
   ],
   "source": [
    "df_majority_downsampled[\"loan_status\"].value_counts()"
   ]
  },
  {
   "cell_type": "code",
   "execution_count": 40,
   "id": "3092115c",
   "metadata": {},
   "outputs": [
    {
     "data": {
      "text/plain": [
       "(10068, 7)"
      ]
     },
     "execution_count": 40,
     "metadata": {},
     "output_type": "execute_result"
    }
   ],
   "source": [
    "df_downsampled = pd.concat([df_majority_downsampled,df_minority])\n",
    "df_downsampled.shape"
   ]
  },
  {
   "cell_type": "code",
   "execution_count": 41,
   "id": "f0d699e4",
   "metadata": {},
   "outputs": [],
   "source": [
    "X_d=df_downsampled[[i for i in df_upsampled.columns if \"loan_status\" not in  i]]\n",
    "y=df_downsampled[[i for i in df_upsampled.columns if \"loan_status\" in  i]]"
   ]
  },
  {
   "cell_type": "code",
   "execution_count": 42,
   "id": "9a72b538",
   "metadata": {},
   "outputs": [
    {
     "data": {
      "text/plain": [
       "array([[-1.32421345,  0.88077044, -1.16390574,  0.50331317,  0.00567902,\n",
       "        -0.53769556],\n",
       "       [ 0.80654906, -1.44134983, -0.39047805, -1.40125043, -1.2230388 ,\n",
       "        -0.53769556],\n",
       "       [-1.32421345, -0.86081976,  0.38294965,  0.65889724,  0.00567902,\n",
       "        -0.53769556],\n",
       "       ...,\n",
       "       [-1.32421345, -0.86081976, -0.39047805, -0.04927852, -1.05920976,\n",
       "        -0.53769556],\n",
       "       [ 0.80654906, -0.86081976,  1.92980504, -0.43555621, -0.81346619,\n",
       "         1.85978846],\n",
       "       [ 0.80654906,  0.88077044,  1.15637735,  1.54411694,  0.90673875,\n",
       "         1.85978846]])"
      ]
     },
     "execution_count": 42,
     "metadata": {},
     "output_type": "execute_result"
    }
   ],
   "source": [
    "scaler=StandardScaler()\n",
    "scaler_d=scaler.fit_transform(X_d)\n",
    "scaler_d"
   ]
  },
  {
   "cell_type": "code",
   "execution_count": 43,
   "id": "2c957a89",
   "metadata": {},
   "outputs": [],
   "source": [
    "X_train_d,X_test_d,y_train_d,y_test_d=train_test_split(scaler_d,y,test_size=0.3,random_state=42)"
   ]
  },
  {
   "cell_type": "code",
   "execution_count": 44,
   "id": "486b5805",
   "metadata": {},
   "outputs": [
    {
     "data": {
      "text/plain": [
       "LogisticRegression()"
      ]
     },
     "execution_count": 44,
     "metadata": {},
     "output_type": "execute_result"
    }
   ],
   "source": [
    "model= LogisticRegression()\n",
    "model.fit(X_train_d,y_train_d)"
   ]
  },
  {
   "cell_type": "code",
   "execution_count": 45,
   "id": "479a4c8e",
   "metadata": {},
   "outputs": [],
   "source": [
    "y_pre=model.predict(X_test)\n",
    "y_pre\n",
    "y_test=y_test.astype(int)"
   ]
  },
  {
   "cell_type": "code",
   "execution_count": 46,
   "id": "b8fb7494",
   "metadata": {},
   "outputs": [
    {
     "name": "stdout",
     "output_type": "stream",
     "text": [
      "0.8537877362524589\n"
     ]
    },
    {
     "data": {
      "image/png": "[encoded data removed]",
      "text/plain": [
       "<Figure size 432x288 with 1 Axes>"
      ]
     },
     "metadata": {
      "needs_background": "light"
     },
     "output_type": "display_data"
    }
   ],
   "source": [
    "from sklearn import metrics\n",
    "y_pred = model.predict_proba(X_test)[:,1]\n",
    "y_pred = model.predict_proba(X_test)[::,1]\n",
    "fpr, tpr,_= metrics.roc_curve(y_test,  y_pred)\n",
    "score=roc_auc_score(y_test,y_pred)\n",
    "print(score)\n",
    "\n",
    "#create ROC curve\n",
    "plt.plot(fpr,tpr)\n",
    "plt.ylabel('True Positive Rate')\n",
    "plt.xlabel('False Positive Rate')\n",
    "plt.show()"
   ]
  },
  {
   "cell_type": "code",
   "execution_count": 47,
   "id": "6a9a61db",
   "metadata": {},
   "outputs": [
    {
     "data": {
      "text/plain": [
       "0.0    52.997812\n",
       "1.0    47.002188\n",
       "Name: Predictions, dtype: float64"
      ]
     },
     "execution_count": 47,
     "metadata": {},
     "output_type": "execute_result"
    }
   ],
   "source": [
    "predictions = pd.DataFrame(model.predict(X_test),columns=[\"Predictions\"])\n",
    "predictions[\"Predictions\"].value_counts(normalize=True)*100"
   ]
  },
  {
   "cell_type": "code",
   "execution_count": 48,
   "id": "266e765a",
   "metadata": {},
   "outputs": [
    {
     "name": "stdout",
     "output_type": "stream",
     "text": [
      "              precision    recall  f1-score   support\n",
      "\n",
      "         0.0       0.65      0.95      0.77      3633\n",
      "         1.0       0.87      0.42      0.57      3222\n",
      "\n",
      "    accuracy                           0.70      6855\n",
      "   macro avg       0.76      0.68      0.67      6855\n",
      "weighted avg       0.75      0.70      0.67      6855\n",
      "\n"
     ]
    }
   ],
   "source": [
    "print(classification_report(y_pre,y_test))"
   ]
  },
  {
   "cell_type": "markdown",
   "id": "c6bb3bd6",
   "metadata": {},
   "source": [
    "## SMOTEEN"
   ]
  },
  {
   "cell_type": "code",
   "execution_count": 49,
   "id": "c5678a97",
   "metadata": {},
   "outputs": [],
   "source": [
    "from imblearn.combine import SMOTEENN"
   ]
  },
  {
   "cell_type": "code",
   "execution_count": 50,
   "id": "c72f85b9",
   "metadata": {},
   "outputs": [
    {
     "data": {
      "text/plain": [
       "array([[ 0.9249415 , -0.8805219 ,  0.67113582, -0.17206048,  0.55906767,\n",
       "         2.14945776],\n",
       "       [ 0.9249415 ,  0.85203411, -0.18868135, -1.21379318, -1.13097309,\n",
       "        -0.46523361],\n",
       "       [ 0.9249415 , -0.30300323,  3.25058733, -0.69014145, -1.22486424,\n",
       "         2.14945776],\n",
       "       ...,\n",
       "       [-1.16821629,  0.85203411, -1.04849853, -0.37260795, -0.37984387,\n",
       "        -0.46523361],\n",
       "       [ 0.22722223,  1.42955278,  0.67113582, -0.83498129,  0.18350305,\n",
       "        -0.46523361],\n",
       "       [ 0.9249415 , -0.8805219 , -1.04849853, -0.37260795, -0.84929963,\n",
       "        -0.46523361]])"
      ]
     },
     "execution_count": 50,
     "metadata": {},
     "output_type": "execute_result"
    }
   ],
   "source": [
    "scaler=StandardScaler()\n",
    "scaler_se=scaler.fit_transform(X_train)\n",
    "scaler_se"
   ]
  },
  {
   "cell_type": "code",
   "execution_count": 51,
   "id": "19fc1252",
   "metadata": {},
   "outputs": [],
   "source": [
    "sm=SMOTEENN(random_state=42)\n",
    "X_trainse,y_trainse=sm.fit_resample(scaler_se,y_train.ravel())"
   ]
  },
  {
   "cell_type": "code",
   "execution_count": 52,
   "id": "aea5bd49",
   "metadata": {},
   "outputs": [
    {
     "data": {
      "text/plain": [
       "((18843, 6), (18843,))"
      ]
     },
     "execution_count": 52,
     "metadata": {},
     "output_type": "execute_result"
    }
   ],
   "source": [
    "X_trainse.shape,y_trainse.shape"
   ]
  },
  {
   "cell_type": "code",
   "execution_count": 53,
   "id": "948705c8",
   "metadata": {},
   "outputs": [
    {
     "data": {
      "text/plain": [
       "LogisticRegression()"
      ]
     },
     "execution_count": 53,
     "metadata": {},
     "output_type": "execute_result"
    }
   ],
   "source": [
    "model= LogisticRegression()\n",
    "model.fit(X_trainse,y_trainse)"
   ]
  },
  {
   "cell_type": "code",
   "execution_count": 54,
   "id": "4e8619a8",
   "metadata": {},
   "outputs": [],
   "source": [
    "y_pre=model.predict(X_test)\n",
    "y_pre\n",
    "y_test=y_test.astype(int)"
   ]
  },
  {
   "cell_type": "code",
   "execution_count": 55,
   "id": "1c608c76",
   "metadata": {},
   "outputs": [
    {
     "name": "stdout",
     "output_type": "stream",
     "text": [
      "0.8531203039669644\n"
     ]
    },
    {
     "data": {
      "image/png": "[encoded data removed]",
      "text/plain": [
       "<Figure size 432x288 with 1 Axes>"
      ]
     },
     "metadata": {
      "needs_background": "light"
     },
     "output_type": "display_data"
    }
   ],
   "source": [
    "from sklearn import metrics\n",
    "y_pred = model.predict_proba(X_test)[:,1]\n",
    "y_pred = model.predict_proba(X_test)[::,1]\n",
    "fpr, tpr,_= metrics.roc_curve(y_test,  y_pred)\n",
    "score=roc_auc_score(y_test,y_pred)\n",
    "print(score)\n",
    "\n",
    "#create ROC curve\n",
    "plt.plot(fpr,tpr)\n",
    "plt.ylabel('True Positive Rate')\n",
    "plt.xlabel('False Positive Rate')\n",
    "plt.show()"
   ]
  },
  {
   "cell_type": "code",
   "execution_count": 56,
   "id": "9999ef7e",
   "metadata": {},
   "outputs": [
    {
     "data": {
      "text/plain": [
       "0.0    66.491612\n",
       "1.0    33.508388\n",
       "Name: Predictions, dtype: float64"
      ]
     },
     "execution_count": 56,
     "metadata": {},
     "output_type": "execute_result"
    }
   ],
   "source": [
    "predictions = pd.DataFrame(model.predict(X_test),columns=[\"Predictions\"])\n",
    "predictions[\"Predictions\"].value_counts(normalize=True)*100"
   ]
  },
  {
   "cell_type": "code",
   "execution_count": 57,
   "id": "e5cbde96",
   "metadata": {},
   "outputs": [
    {
     "name": "stdout",
     "output_type": "stream",
     "text": [
      "              precision    recall  f1-score   support\n",
      "\n",
      "         0.0       0.79      0.92      0.85      4558\n",
      "         1.0       0.77      0.52      0.62      2297\n",
      "\n",
      "    accuracy                           0.79      6855\n",
      "   macro avg       0.78      0.72      0.74      6855\n",
      "weighted avg       0.79      0.79      0.78      6855\n",
      "\n"
     ]
    }
   ],
   "source": [
    "print(classification_report(y_pre,y_test))"
   ]
  },
  {
   "cell_type": "markdown",
   "id": "be845b61",
   "metadata": {},
   "source": [
    "## ADASYN"
   ]
  },
  {
   "cell_type": "code",
   "execution_count": 58,
   "id": "bdc2422d",
   "metadata": {},
   "outputs": [],
   "source": [
    "from imblearn.over_sampling import ADASYN \n",
    "sm = ADASYN(random_state=42)"
   ]
  },
  {
   "cell_type": "code",
   "execution_count": 59,
   "id": "1138c736",
   "metadata": {},
   "outputs": [
    {
     "data": {
      "text/plain": [
       "array([[ 0.9249415 , -0.8805219 ,  0.67113582, -0.17206048,  0.55906767,\n",
       "         2.14945776],\n",
       "       [ 0.9249415 ,  0.85203411, -0.18868135, -1.21379318, -1.13097309,\n",
       "        -0.46523361],\n",
       "       [ 0.9249415 , -0.30300323,  3.25058733, -0.69014145, -1.22486424,\n",
       "         2.14945776],\n",
       "       ...,\n",
       "       [-1.16821629,  0.85203411, -1.04849853, -0.37260795, -0.37984387,\n",
       "        -0.46523361],\n",
       "       [ 0.22722223,  1.42955278,  0.67113582, -0.83498129,  0.18350305,\n",
       "        -0.46523361],\n",
       "       [ 0.9249415 , -0.8805219 , -1.04849853, -0.37260795, -0.84929963,\n",
       "        -0.46523361]])"
      ]
     },
     "execution_count": 59,
     "metadata": {},
     "output_type": "execute_result"
    }
   ],
   "source": [
    "scaler=StandardScaler()\n",
    "scaler_se=scaler.fit_transform(X_train)\n",
    "scaler_se"
   ]
  },
  {
   "cell_type": "code",
   "execution_count": 60,
   "id": "f7fb2df7",
   "metadata": {},
   "outputs": [],
   "source": [
    "X_train_ada,y_train_ada = sm.fit_resample(scaler_se,y_train.ravel())"
   ]
  },
  {
   "cell_type": "code",
   "execution_count": 61,
   "id": "6f1e5959",
   "metadata": {},
   "outputs": [
    {
     "data": {
      "text/plain": [
       "LogisticRegression()"
      ]
     },
     "execution_count": 61,
     "metadata": {},
     "output_type": "execute_result"
    }
   ],
   "source": [
    "model= LogisticRegression()\n",
    "model.fit(X_train_ada,y_train_ada)"
   ]
  },
  {
   "cell_type": "code",
   "execution_count": 62,
   "id": "4da3cbb2",
   "metadata": {},
   "outputs": [],
   "source": [
    "y_pre=model.predict(X_test)\n",
    "y_pre\n",
    "y_test=y_test.astype(int)"
   ]
  },
  {
   "cell_type": "code",
   "execution_count": 63,
   "id": "526ffe93",
   "metadata": {},
   "outputs": [
    {
     "name": "stdout",
     "output_type": "stream",
     "text": [
      "0.847145300607201\n"
     ]
    },
    {
     "data": {
      "image/png": "[encoded data removed]",
      "text/plain": [
       "<Figure size 432x288 with 1 Axes>"
      ]
     },
     "metadata": {
      "needs_background": "light"
     },
     "output_type": "display_data"
    }
   ],
   "source": [
    "from sklearn import metrics\n",
    "y_pred = model.predict_proba(X_test)[:,1]\n",
    "y_pred = model.predict_proba(X_test)[::,1]\n",
    "fpr, tpr,_= metrics.roc_curve(y_test,  y_pred)\n",
    "score=roc_auc_score(y_test,y_pred)\n",
    "print(score)\n",
    "\n",
    "#create ROC curve\n",
    "plt.plot(fpr,tpr)\n",
    "plt.ylabel('True Positive Rate')\n",
    "plt.xlabel('False Positive Rate')\n",
    "plt.show()"
   ]
  },
  {
   "cell_type": "code",
   "execution_count": 64,
   "id": "e52732cf",
   "metadata": {},
   "outputs": [
    {
     "name": "stdout",
     "output_type": "stream",
     "text": [
      "              precision    recall  f1-score   support\n",
      "\n",
      "         0.0       0.73      0.93      0.82      4153\n",
      "         1.0       0.81      0.46      0.59      2702\n",
      "\n",
      "    accuracy                           0.75      6855\n",
      "   macro avg       0.77      0.70      0.70      6855\n",
      "weighted avg       0.76      0.75      0.73      6855\n",
      "\n"
     ]
    }
   ],
   "source": [
    "print(classification_report(y_pre,y_test))"
   ]
  }
 ],
 "metadata": {
  "kernelspec": {
   "display_name": "Python 3 (ipykernel)",
   "language": "python",
   "name": "python3"
  },
  "language_info": {
   "codemirror_mode": {
    "name": "ipython",
    "version": 3
   },
   "file_extension": ".py",
   "mimetype": "text/x-python",
   "name": "python",
   "nbconvert_exporter": "python",
   "pygments_lexer": "ipython3",
   "version": "3.9.12"
  }
 },
 "nbformat": 4,
 "nbformat_minor": 5
}
